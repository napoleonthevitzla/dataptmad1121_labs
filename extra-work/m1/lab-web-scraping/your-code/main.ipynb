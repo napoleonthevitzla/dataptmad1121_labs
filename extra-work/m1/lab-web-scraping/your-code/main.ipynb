{
 "cells": [
  {
   "cell_type": "markdown",
   "metadata": {},
   "source": [
    "# Web Scraping Lab\n",
    "\n",
    "You will find in this notebook some scrapy exercises to practise your scraping skills.\n",
    "\n",
    "**Tips:**\n",
    "\n",
    "- Check the response status code for each request to ensure you have obtained the intended content.\n",
    "- Print the response text in each request to understand the kind of info you are getting and its format.\n",
    "- Check for patterns in the response text to extract the data/info requested in each question.\n",
    "- Visit the urls below and take a look at their source code through Chrome DevTools. You'll need to identify the html tags, special class names, etc used in the html content you are expected to extract.\n",
    "\n",
    "**Resources**:\n",
    "- [Requests library](http://docs.python-requests.org/en/master/#the-user-guide)\n",
    "- [Beautiful Soup Doc](https://www.crummy.com/software/BeautifulSoup/bs4/doc/)\n",
    "- [Urllib](https://docs.python.org/3/library/urllib.html#module-urllib)\n",
    "- [re lib](https://docs.python.org/3/library/re.html)\n",
    "- [lxml lib](https://lxml.de/)\n",
    "- [Scrapy](https://scrapy.org/)\n",
    "- [List of HTTP status codes](https://en.wikipedia.org/wiki/List_of_HTTP_status_codes)\n",
    "- [HTML basics](http://www.simplehtmlguide.com/cheatsheet.php)\n",
    "- [CSS basics](https://www.cssbasics.com/#page_start)"
   ]
  },
  {
   "cell_type": "markdown",
   "metadata": {},
   "source": [
    "#### Below are the libraries and modules you may need. `requests`,  `BeautifulSoup` and `pandas` are already imported for you. If you prefer to use additional libraries feel free to do it."
   ]
  },
  {
   "cell_type": "code",
   "execution_count": 2,
   "metadata": {},
   "outputs": [],
   "source": [
    "import requests\n",
    "import bs4\n",
    "import pandas as pd\n",
    "import re\n",
    "import numpy as np"
   ]
  },
  {
   "cell_type": "markdown",
   "metadata": {},
   "source": [
    "#### Download, parse (using BeautifulSoup), and print the content from the Trending Developers page from GitHub:"
   ]
  },
  {
   "cell_type": "code",
   "execution_count": 3,
   "metadata": {},
   "outputs": [],
   "source": [
    "# This is the url you will scrape in this exercise\n",
    "url = 'https://github.com/trending/developers'\n",
    "\n",
    "response = requests.get(url)\n",
    "htlm = response.content\n",
    "#htlm\n"
   ]
  },
  {
   "cell_type": "code",
   "execution_count": 4,
   "metadata": {},
   "outputs": [
    {
     "data": {
      "text/plain": [
       "['Alex Goodman',\n",
       " 'Fernando Rojo',\n",
       " 'Stephen Celis',\n",
       " 'Steve Macenski',\n",
       " 'Jacob Ebey',\n",
       " 'Avelino',\n",
       " 'Jeremy Long',\n",
       " 'Robert Mosolgo',\n",
       " 'Fernand Galiana',\n",
       " 'Shivam Mathur',\n",
       " 'Bastian Köcher',\n",
       " 'Felix Angelov',\n",
       " 'Simon Ser',\n",
       " 'Eliza Weisman',\n",
       " 'Juliette',\n",
       " 'Anton Babenko',\n",
       " 'Ben McCann',\n",
       " 'Mariusz Nowak',\n",
       " '07akioni',\n",
       " 'Jérémy Barbet',\n",
       " 'kezhenxu94',\n",
       " 'Pedro S. Lopez',\n",
       " 'Adrian Wälchli',\n",
       " 'Jonny Borges',\n",
       " 'Karol Wrótniak']"
      ]
     },
     "execution_count": 4,
     "metadata": {},
     "output_type": "execute_result"
    }
   ],
   "source": [
    "# your code here El Parser se hace para pasar de byters a \n",
    "\n",
    "soup = bs4.BeautifulSoup(htlm, \"html.parser\")\n",
    "#soup\n",
    "\n",
    "## Extraemos todos los elementos de h1 con la \"class\" identificada en el navegador (indicada como parametro)\n",
    "\n",
    "parsed_content_names_h1 = soup.find_all(\"h1\",{\"class\": \"h3 lh-condensed\"})  \n",
    "# identificamos un elemento a estudiar:  parsed_content_names_h1[0].a.string\n",
    "#parsed_content_names_h1 \n",
    "\n",
    "# Creamos una lista vacia para introd datos del string.\n",
    "\n",
    "parsed_content_names_list = list()\n",
    "\n",
    "\n",
    "\n",
    "for i in parsed_content_names_h1 :\n",
    "    parsed_content_names_list.append((i.text).strip())\n",
    "#utilizamos strip para quitar el \\n#\n",
    "parsed_content_names_list\n",
    "\n",
    "\n",
    "\n",
    "#parsed_content_names_list = [i.a.string for i in parsed_content_names_h1]\n",
    "#print(str(parsed_content_names_list[0]))\n",
    "\n",
    "#parsed_content_names_list\n",
    "\n",
    "##NOS HEMOS QUEADADO AQUÍ#####\n",
    "\n",
    "\n",
    "#parsed_content_names_list = (str(parsed_content_names_list))\n",
    "\n",
    "\n",
    "\n",
    "# ahora queremos quitar los elementos del string\n",
    "#print(re.split('\\W', parsed_content_names_list))\n"
   ]
  },
  {
   "cell_type": "code",
   "execution_count": 5,
   "metadata": {},
   "outputs": [
    {
     "data": {
      "text/plain": [
       "['wagoodman',\n",
       " 'nandorojo',\n",
       " 'stephencelis',\n",
       " 'SteveMacenski',\n",
       " 'jacob-ebey',\n",
       " 'avelino',\n",
       " 'jeremylong',\n",
       " 'rmosolgo',\n",
       " 'derailed',\n",
       " 'shivammathur',\n",
       " 'bkchr',\n",
       " 'felangel',\n",
       " 'emersion',\n",
       " 'hawkw',\n",
       " 'jrfnl',\n",
       " 'antonbabenko',\n",
       " 'benmccann',\n",
       " 'medikoo',\n",
       " '07akioni',\n",
       " 'jeremybarbet',\n",
       " 'kezhenxu94',\n",
       " 'pedroslopez',\n",
       " 'awaelchli',\n",
       " 'jonataslaw',\n",
       " 'koral--']"
      ]
     },
     "execution_count": 5,
     "metadata": {},
     "output_type": "execute_result"
    }
   ],
   "source": [
    "parsed_content_nickname_h1 = soup.find_all(\"p\",{\"class\": \"f4 text-normal mb-1\"})  \n",
    "parsed_content_nickname_list = list()\n",
    "for i in parsed_content_nickname_h1 :\n",
    "    parsed_content_nickname_list.append((i.text).strip())\n",
    "#utilizamos strip para quitar el \\n#\n",
    "parsed_content_nickname_list\n",
    "\n",
    "\n"
   ]
  },
  {
   "cell_type": "code",
   "execution_count": 6,
   "metadata": {},
   "outputs": [
    {
     "data": {
      "text/plain": [
       "['(wagoodman)',\n",
       " '(nandorojo)',\n",
       " '(stephencelis)',\n",
       " '(SteveMacenski)',\n",
       " '(jacob-ebey)',\n",
       " '(avelino)',\n",
       " '(jeremylong)',\n",
       " '(rmosolgo)',\n",
       " '(derailed)',\n",
       " '(shivammathur)',\n",
       " '(bkchr)',\n",
       " '(felangel)',\n",
       " '(emersion)',\n",
       " '(hawkw)',\n",
       " '(jrfnl)',\n",
       " '(antonbabenko)',\n",
       " '(benmccann)',\n",
       " '(medikoo)',\n",
       " '(07akioni)',\n",
       " '(jeremybarbet)',\n",
       " '(kezhenxu94)',\n",
       " '(pedroslopez)',\n",
       " '(awaelchli)',\n",
       " '(jonataslaw)',\n",
       " '(koral--)']"
      ]
     },
     "execution_count": 6,
     "metadata": {},
     "output_type": "execute_result"
    }
   ],
   "source": [
    "parsed_content_nickname_list\n",
    "\n",
    "parsed_content_nickname_list2 = [\"({0})\".format(i) for i in parsed_content_nickname_list]\n",
    "parsed_content_nickname_list2"
   ]
  },
  {
   "cell_type": "code",
   "execution_count": null,
   "metadata": {},
   "outputs": [],
   "source": []
  },
  {
   "cell_type": "markdown",
   "metadata": {},
   "source": [
    "#### Display the names of the trending developers retrieved in the previous step.\n",
    "\n",
    "Your output should be a Python list of developer names. Each name should not contain any html tag.\n",
    "\n",
    "**Instructions:**\n",
    "\n",
    "1. Find out the html tag and class names used for the developer names. You can achieve this using Chrome DevTools.\n",
    "\n",
    "1. Use BeautifulSoup to extract all the html elements that contain the developer names.\n",
    "\n",
    "1. Use string manipulation techniques to replace whitespaces and linebreaks (i.e. `\\n`) in the *text* of each html element. Use a list to store the clean names.\n",
    "\n",
    "1. Print the list of names.\n",
    "\n",
    "Your output should look like below:\n",
    "\n",
    "```\n",
    "['trimstray (@trimstray)',\n",
    " 'joewalnes (JoeWalnes)',\n",
    " 'charlax (Charles-AxelDein)',\n",
    " 'ForrestKnight (ForrestKnight)',\n",
    " 'revery-ui (revery-ui)',\n",
    " 'alibaba (Alibaba)',\n",
    " 'Microsoft (Microsoft)',\n",
    " 'github (GitHub)',\n",
    " 'facebook (Facebook)',\n",
    " 'boazsegev (Bo)',\n",
    " 'google (Google)',\n",
    " 'cloudfetch',\n",
    " 'sindresorhus (SindreSorhus)',\n",
    " 'tensorflow',\n",
    " 'apache (TheApacheSoftwareFoundation)',\n",
    " 'DevonCrawford (DevonCrawford)',\n",
    " 'ARMmbed (ArmMbed)',\n",
    " 'vuejs (vuejs)',\n",
    " 'fastai (fast.ai)',\n",
    " 'QiShaoXuan (Qi)',\n",
    " 'joelparkerhenderson (JoelParkerHenderson)',\n",
    " 'torvalds (LinusTorvalds)',\n",
    " 'CyC2018',\n",
    " 'komeiji-satori (神楽坂覚々)',\n",
    " 'script-8']\n",
    " ```"
   ]
  },
  {
   "cell_type": "code",
   "execution_count": 7,
   "metadata": {},
   "outputs": [
    {
     "data": {
      "text/plain": [
       "['Alex Goodman (wagoodman)',\n",
       " 'Fernando Rojo (nandorojo)',\n",
       " 'Stephen Celis (stephencelis)',\n",
       " 'Steve Macenski (SteveMacenski)',\n",
       " 'Jacob Ebey (jacob-ebey)',\n",
       " 'Avelino (avelino)',\n",
       " 'Jeremy Long (jeremylong)',\n",
       " 'Robert Mosolgo (rmosolgo)',\n",
       " 'Fernand Galiana (derailed)',\n",
       " 'Shivam Mathur (shivammathur)',\n",
       " 'Bastian Köcher (bkchr)',\n",
       " 'Felix Angelov (felangel)',\n",
       " 'Simon Ser (emersion)',\n",
       " 'Eliza Weisman (hawkw)',\n",
       " 'Juliette (jrfnl)',\n",
       " 'Anton Babenko (antonbabenko)',\n",
       " 'Ben McCann (benmccann)',\n",
       " 'Mariusz Nowak (medikoo)',\n",
       " '07akioni (07akioni)',\n",
       " 'Jérémy Barbet (jeremybarbet)',\n",
       " 'kezhenxu94 (kezhenxu94)',\n",
       " 'Pedro S. Lopez (pedroslopez)',\n",
       " 'Adrian Wälchli (awaelchli)',\n",
       " 'Jonny Borges (jonataslaw)',\n",
       " 'Karol Wrótniak (koral--)']"
      ]
     },
     "execution_count": 7,
     "metadata": {},
     "output_type": "execute_result"
    }
   ],
   "source": [
    "# your code here Sumamos los elementos con el metodo zip dándole como argumentos cada lista\n",
    "\n",
    "result = []\n",
    "for (elem1, elem2) in zip(parsed_content_names_list,parsed_content_nickname_list2):\n",
    "    result.append(elem1+\" \"+elem2)\n",
    "result"
   ]
  },
  {
   "cell_type": "markdown",
   "metadata": {},
   "source": [
    "#### Display the trending Python repositories in GitHub.\n",
    "\n",
    "The steps to solve this problem is similar to the previous one except that you need to find out the repository names instead of developer names."
   ]
  },
  {
   "cell_type": "code",
   "execution_count": 8,
   "metadata": {},
   "outputs": [],
   "source": [
    "# This is the url you will scrape in this exercise\n",
    "url = 'https://github.com/trending/python?since=daily'"
   ]
  },
  {
   "cell_type": "code",
   "execution_count": 9,
   "metadata": {},
   "outputs": [
    {
     "data": {
      "text/plain": [
       "['log4j-shell-poc',\n",
       " 'youtube-dl',\n",
       " 'log4shell',\n",
       " 'log4j-scan',\n",
       " 'log4j-finder',\n",
       " 'minitorch',\n",
       " 'black',\n",
       " 'L4sh',\n",
       " 'minDALL-E',\n",
       " 'Python-100-Days',\n",
       " 'NostalgiaForInfinity',\n",
       " 'fastapi',\n",
       " 'community-templates',\n",
       " 'moco',\n",
       " 'sanic',\n",
       " 'tqdm',\n",
       " 'prefect',\n",
       " 'rich',\n",
       " 'Log4jTools',\n",
       " 'PaddleClas',\n",
       " 'turtle',\n",
       " 'python',\n",
       " 'ScoutSuite',\n",
       " 'altair',\n",
       " 'CLUE']"
      ]
     },
     "execution_count": 9,
     "metadata": {},
     "output_type": "execute_result"
    }
   ],
   "source": [
    "# your code here\n",
    "\n",
    "response = requests.get(url)\n",
    "htlm = response.content\n",
    "#htlm\n",
    "soup = bs4.BeautifulSoup(htlm, \"html.parser\")\n",
    "#soup\n",
    "\n",
    "\n",
    "######     -----        Continuar desde aquí\n",
    "\n",
    "## Extraemos todos los elementos de h1 con la \"class\" identificada en el navegador (indicada como parametro)\n",
    "\n",
    "content_trending_names = soup.find_all(\"h1\",{\"class\": \"h3 lh-condensed\"})  \n",
    "\n",
    "## Convertimos los elementos en una lista que incluye elementos htlm\n",
    "\n",
    "trending_names_list = list()\n",
    "for i in content_trending_names:\n",
    "    trending_names_list.append((i.text).strip().replace('  ','').split('\\n\\n')[1])\n",
    "\n",
    "trending_names_list\n",
    "\n",
    "#text: recoge el texto sin htlm\n",
    "#.strip Elimina todos los espacios y cararteres especiales al principio y final de un string\n",
    "# .replace Reemplazaespacios\n",
    "\n",
    "## Convertimos los elementos en una lista SIN elementos htlm\n",
    "\n",
    "\n",
    "\n",
    "#result2 = [i.split for i in trending_names_list]\n",
    "#result2"
   ]
  },
  {
   "cell_type": "code",
   "execution_count": null,
   "metadata": {},
   "outputs": [],
   "source": []
  },
  {
   "cell_type": "markdown",
   "metadata": {},
   "source": [
    "#### Display all the image links from Walt Disney wikipedia page."
   ]
  },
  {
   "cell_type": "code",
   "execution_count": 10,
   "metadata": {},
   "outputs": [],
   "source": [
    "# This is the url you will scrape in this exercise\n",
    "url = 'https://en.wikipedia.org/wiki/Walt_Disney'"
   ]
  },
  {
   "cell_type": "code",
   "execution_count": 11,
   "metadata": {},
   "outputs": [
    {
     "data": {
      "text/plain": [
       "[<a class=\"image\" href=\"/wiki/File:Walt_Disney_1946.JPG\"><img alt=\"Walt Disney 1946.JPG\" data-file-height=\"675\" data-file-width=\"450\" decoding=\"async\" height=\"330\" src=\"//upload.wikimedia.org/wikipedia/commons/thumb/d/df/Walt_Disney_1946.JPG/220px-Walt_Disney_1946.JPG\" srcset=\"//upload.wikimedia.org/wikipedia/commons/thumb/d/df/Walt_Disney_1946.JPG/330px-Walt_Disney_1946.JPG 1.5x, //upload.wikimedia.org/wikipedia/commons/thumb/d/df/Walt_Disney_1946.JPG/440px-Walt_Disney_1946.JPG 2x\" width=\"220\"/></a>,\n",
       " <a class=\"image\" href=\"/wiki/File:Walt_Disney_1942_signature.svg\"><img alt=\"Walt Disney 1942 signature.svg\" data-file-height=\"218\" data-file-width=\"585\" decoding=\"async\" height=\"56\" src=\"//upload.wikimedia.org/wikipedia/commons/thumb/8/87/Walt_Disney_1942_signature.svg/150px-Walt_Disney_1942_signature.svg.png\" srcset=\"//upload.wikimedia.org/wikipedia/commons/thumb/8/87/Walt_Disney_1942_signature.svg/225px-Walt_Disney_1942_signature.svg.png 1.5x, //upload.wikimedia.org/wikipedia/commons/thumb/8/87/Walt_Disney_1942_signature.svg/300px-Walt_Disney_1942_signature.svg.png 2x\" width=\"150\"/></a>,\n",
       " <a class=\"image\" href=\"/wiki/File:Walt_Disney_envelope_ca._1921.jpg\"><img alt=\"\" class=\"thumbimage\" data-file-height=\"1086\" data-file-width=\"1576\" decoding=\"async\" height=\"152\" src=\"//upload.wikimedia.org/wikipedia/commons/thumb/c/c4/Walt_Disney_envelope_ca._1921.jpg/220px-Walt_Disney_envelope_ca._1921.jpg\" srcset=\"//upload.wikimedia.org/wikipedia/commons/thumb/c/c4/Walt_Disney_envelope_ca._1921.jpg/330px-Walt_Disney_envelope_ca._1921.jpg 1.5x, //upload.wikimedia.org/wikipedia/commons/thumb/c/c4/Walt_Disney_envelope_ca._1921.jpg/440px-Walt_Disney_envelope_ca._1921.jpg 2x\" width=\"220\"/></a>,\n",
       " <a class=\"image\" href=\"/wiki/File:Trolley_Troubles_poster.jpg\"><img alt=\"A cartoon rabbit is driving a tramcar; other cartoon rabbits are in, under, on and around the car.\" class=\"thumbimage\" data-file-height=\"1600\" data-file-width=\"1202\" decoding=\"async\" height=\"226\" src=\"//upload.wikimedia.org/wikipedia/commons/thumb/0/0d/Trolley_Troubles_poster.jpg/170px-Trolley_Troubles_poster.jpg\" srcset=\"//upload.wikimedia.org/wikipedia/commons/thumb/0/0d/Trolley_Troubles_poster.jpg/255px-Trolley_Troubles_poster.jpg 1.5x, //upload.wikimedia.org/wikipedia/commons/thumb/0/0d/Trolley_Troubles_poster.jpg/340px-Trolley_Troubles_poster.jpg 2x\" width=\"170\"/></a>,\n",
       " <a class=\"image\" href=\"/wiki/File:Steamboat-willie.jpg\"><img alt=\"A cartoon mouse is operating a ship's steering wheel\" class=\"thumbimage\" data-file-height=\"267\" data-file-width=\"373\" decoding=\"async\" height=\"122\" src=\"//upload.wikimedia.org/wikipedia/en/thumb/4/4e/Steamboat-willie.jpg/170px-Steamboat-willie.jpg\" srcset=\"//upload.wikimedia.org/wikipedia/en/thumb/4/4e/Steamboat-willie.jpg/255px-Steamboat-willie.jpg 1.5x, //upload.wikimedia.org/wikipedia/en/thumb/4/4e/Steamboat-willie.jpg/340px-Steamboat-willie.jpg 2x\" width=\"170\"/></a>,\n",
       " <a class=\"image\" href=\"/wiki/File:Walt_Disney_1935.jpg\"><img alt=\"\" class=\"thumbimage\" data-file-height=\"5252\" data-file-width=\"7000\" decoding=\"async\" height=\"128\" src=\"//upload.wikimedia.org/wikipedia/commons/thumb/5/57/Walt_Disney_1935.jpg/170px-Walt_Disney_1935.jpg\" srcset=\"//upload.wikimedia.org/wikipedia/commons/thumb/5/57/Walt_Disney_1935.jpg/255px-Walt_Disney_1935.jpg 1.5x, //upload.wikimedia.org/wikipedia/commons/thumb/5/57/Walt_Disney_1935.jpg/340px-Walt_Disney_1935.jpg 2x\" width=\"170\"/></a>,\n",
       " <a class=\"image\" href=\"/wiki/File:Walt_Disney_Snow_white_1937_trailer_screenshot_(13).jpg\"><img alt=\"Walt Disney sits in front of a set of models of the seven dwarfs\" class=\"thumbimage\" data-file-height=\"388\" data-file-width=\"500\" decoding=\"async\" height=\"171\" src=\"//upload.wikimedia.org/wikipedia/commons/thumb/c/cd/Walt_Disney_Snow_white_1937_trailer_screenshot_%2813%29.jpg/220px-Walt_Disney_Snow_white_1937_trailer_screenshot_%2813%29.jpg\" srcset=\"//upload.wikimedia.org/wikipedia/commons/thumb/c/cd/Walt_Disney_Snow_white_1937_trailer_screenshot_%2813%29.jpg/330px-Walt_Disney_Snow_white_1937_trailer_screenshot_%2813%29.jpg 1.5x, //upload.wikimedia.org/wikipedia/commons/thumb/c/cd/Walt_Disney_Snow_white_1937_trailer_screenshot_%2813%29.jpg/440px-Walt_Disney_Snow_white_1937_trailer_screenshot_%2813%29.jpg 2x\" width=\"220\"/></a>,\n",
       " <a class=\"image\" href=\"/wiki/File:Disney_drawing_goofy.jpg\"><img alt=\"\" class=\"thumbimage\" data-file-height=\"770\" data-file-width=\"600\" decoding=\"async\" height=\"218\" src=\"//upload.wikimedia.org/wikipedia/commons/thumb/1/15/Disney_drawing_goofy.jpg/170px-Disney_drawing_goofy.jpg\" srcset=\"//upload.wikimedia.org/wikipedia/commons/thumb/1/15/Disney_drawing_goofy.jpg/255px-Disney_drawing_goofy.jpg 1.5x, //upload.wikimedia.org/wikipedia/commons/thumb/1/15/Disney_drawing_goofy.jpg/340px-Disney_drawing_goofy.jpg 2x\" width=\"170\"/></a>,\n",
       " <a class=\"image\" href=\"/wiki/File:DisneySchiphol1951.jpg\"><img alt=\"\" class=\"thumbimage\" data-file-height=\"2493\" data-file-width=\"3247\" decoding=\"async\" height=\"169\" src=\"//upload.wikimedia.org/wikipedia/commons/thumb/1/13/DisneySchiphol1951.jpg/220px-DisneySchiphol1951.jpg\" srcset=\"//upload.wikimedia.org/wikipedia/commons/thumb/1/13/DisneySchiphol1951.jpg/330px-DisneySchiphol1951.jpg 1.5x, //upload.wikimedia.org/wikipedia/commons/thumb/1/13/DisneySchiphol1951.jpg/440px-DisneySchiphol1951.jpg 2x\" width=\"220\"/></a>,\n",
       " <a class=\"image\" href=\"/wiki/File:WaltDisneyplansDisneylandDec1954.jpg\"><img alt=\"\" class=\"thumbimage\" data-file-height=\"2417\" data-file-width=\"2723\" decoding=\"async\" height=\"195\" src=\"//upload.wikimedia.org/wikipedia/commons/thumb/8/8c/WaltDisneyplansDisneylandDec1954.jpg/220px-WaltDisneyplansDisneylandDec1954.jpg\" srcset=\"//upload.wikimedia.org/wikipedia/commons/thumb/8/8c/WaltDisneyplansDisneylandDec1954.jpg/330px-WaltDisneyplansDisneylandDec1954.jpg 1.5x, //upload.wikimedia.org/wikipedia/commons/thumb/8/8c/WaltDisneyplansDisneylandDec1954.jpg/440px-WaltDisneyplansDisneylandDec1954.jpg 2x\" width=\"220\"/></a>,\n",
       " <a class=\"image\" href=\"/wiki/File:Walt_disney_portrait_right.jpg\"><img alt=\"\" class=\"thumbimage\" data-file-height=\"902\" data-file-width=\"667\" decoding=\"async\" height=\"230\" src=\"//upload.wikimedia.org/wikipedia/commons/thumb/f/ff/Walt_disney_portrait_right.jpg/170px-Walt_disney_portrait_right.jpg\" srcset=\"//upload.wikimedia.org/wikipedia/commons/thumb/f/ff/Walt_disney_portrait_right.jpg/255px-Walt_disney_portrait_right.jpg 1.5x, //upload.wikimedia.org/wikipedia/commons/thumb/f/ff/Walt_disney_portrait_right.jpg/340px-Walt_disney_portrait_right.jpg 2x\" width=\"170\"/></a>,\n",
       " <a class=\"image\" href=\"/wiki/File:Walt_Disney_Grave.JPG\"><img alt=\"A gravestone inscribed 'Walter Elias Disney', 'Lillian Bounds Disney', 'Robert B. Brown', Sharon Disney Brown Lund ashes scattered in paradise'\" class=\"thumbimage\" data-file-height=\"1700\" data-file-width=\"1400\" decoding=\"async\" height=\"206\" src=\"//upload.wikimedia.org/wikipedia/commons/thumb/1/1a/Walt_Disney_Grave.JPG/170px-Walt_Disney_Grave.JPG\" srcset=\"//upload.wikimedia.org/wikipedia/commons/thumb/1/1a/Walt_Disney_Grave.JPG/255px-Walt_Disney_Grave.JPG 1.5x, //upload.wikimedia.org/wikipedia/commons/thumb/1/1a/Walt_Disney_Grave.JPG/340px-Walt_Disney_Grave.JPG 2x\" width=\"170\"/></a>,\n",
       " <a class=\"image\" href=\"/wiki/File:Roy_O._Disney_with_Company_at_Press_Conference.jpg\"><img alt=\"\" class=\"thumbimage\" data-file-height=\"275\" data-file-width=\"220\" decoding=\"async\" height=\"213\" src=\"//upload.wikimedia.org/wikipedia/commons/thumb/2/2d/Roy_O._Disney_with_Company_at_Press_Conference.jpg/170px-Roy_O._Disney_with_Company_at_Press_Conference.jpg\" srcset=\"//upload.wikimedia.org/wikipedia/commons/2/2d/Roy_O._Disney_with_Company_at_Press_Conference.jpg 1.5x\" width=\"170\"/></a>,\n",
       " <a class=\"image\" href=\"/wiki/File:Disney_Oscar_1953_(cropped).jpg\"><img alt=\"A black and white photograph of Walt Disney standing, holding an Academy Award.\" class=\"thumbimage\" data-file-height=\"1214\" data-file-width=\"841\" decoding=\"async\" height=\"245\" src=\"//upload.wikimedia.org/wikipedia/commons/thumb/b/b0/Disney_Oscar_1953_%28cropped%29.jpg/170px-Disney_Oscar_1953_%28cropped%29.jpg\" srcset=\"//upload.wikimedia.org/wikipedia/commons/thumb/b/b0/Disney_Oscar_1953_%28cropped%29.jpg/255px-Disney_Oscar_1953_%28cropped%29.jpg 1.5x, //upload.wikimedia.org/wikipedia/commons/thumb/b/b0/Disney_Oscar_1953_%28cropped%29.jpg/340px-Disney_Oscar_1953_%28cropped%29.jpg 2x\" width=\"170\"/></a>,\n",
       " <a class=\"image\" href=\"/wiki/File:Disney1968.jpg\"><img alt=\"A portrait of Disney with cartoon representations of different nationalities on a 6 cent US stamp\" class=\"thumbimage\" data-file-height=\"736\" data-file-width=\"483\" decoding=\"async\" height=\"259\" src=\"//upload.wikimedia.org/wikipedia/commons/thumb/6/6c/Disney1968.jpg/170px-Disney1968.jpg\" srcset=\"//upload.wikimedia.org/wikipedia/commons/thumb/6/6c/Disney1968.jpg/255px-Disney1968.jpg 1.5x, //upload.wikimedia.org/wikipedia/commons/thumb/6/6c/Disney1968.jpg/340px-Disney1968.jpg 2x\" width=\"170\"/></a>,\n",
       " <a class=\"image\" href=\"/wiki/File:Disneyland_Resort_logo.svg\"><img alt=\"Disneyland Resort logo.svg\" data-file-height=\"66\" data-file-width=\"267\" decoding=\"async\" height=\"33\" src=\"//upload.wikimedia.org/wikipedia/commons/thumb/e/e3/Disneyland_Resort_logo.svg/135px-Disneyland_Resort_logo.svg.png\" srcset=\"//upload.wikimedia.org/wikipedia/commons/thumb/e/e3/Disneyland_Resort_logo.svg/203px-Disneyland_Resort_logo.svg.png 1.5x, //upload.wikimedia.org/wikipedia/commons/thumb/e/e3/Disneyland_Resort_logo.svg/270px-Disneyland_Resort_logo.svg.png 2x\" width=\"135\"/></a>,\n",
       " <a class=\"image\" href=\"/wiki/File:Animation_disc.svg\"><img alt=\"\" data-file-height=\"28\" data-file-width=\"30\" decoding=\"async\" height=\"19\" src=\"//upload.wikimedia.org/wikipedia/commons/thumb/d/da/Animation_disc.svg/20px-Animation_disc.svg.png\" srcset=\"//upload.wikimedia.org/wikipedia/commons/thumb/d/da/Animation_disc.svg/31px-Animation_disc.svg.png 1.5x, //upload.wikimedia.org/wikipedia/commons/thumb/d/da/Animation_disc.svg/41px-Animation_disc.svg.png 2x\" width=\"20\"/></a>,\n",
       " <a class=\"image\" href=\"/wiki/File:P_vip.svg\"><img alt=\"\" data-file-height=\"1944\" data-file-width=\"1911\" decoding=\"async\" height=\"19\" src=\"//upload.wikimedia.org/wikipedia/en/thumb/6/69/P_vip.svg/19px-P_vip.svg.png\" srcset=\"//upload.wikimedia.org/wikipedia/en/thumb/6/69/P_vip.svg/28px-P_vip.svg.png 1.5x, //upload.wikimedia.org/wikipedia/en/thumb/6/69/P_vip.svg/37px-P_vip.svg.png 2x\" width=\"19\"/></a>,\n",
       " <a class=\"image\" href=\"/wiki/File:Magic_Kingdom_castle.jpg\"><img alt=\"\" data-file-height=\"1545\" data-file-width=\"1262\" decoding=\"async\" height=\"19\" src=\"//upload.wikimedia.org/wikipedia/commons/thumb/1/1a/Magic_Kingdom_castle.jpg/15px-Magic_Kingdom_castle.jpg\" srcset=\"//upload.wikimedia.org/wikipedia/commons/thumb/1/1a/Magic_Kingdom_castle.jpg/24px-Magic_Kingdom_castle.jpg 1.5x, //upload.wikimedia.org/wikipedia/commons/thumb/1/1a/Magic_Kingdom_castle.jpg/31px-Magic_Kingdom_castle.jpg 2x\" width=\"15\"/></a>,\n",
       " <a class=\"image\" href=\"/wiki/File:Video-x-generic.svg\"><img alt=\"\" data-file-height=\"48\" data-file-width=\"48\" decoding=\"async\" height=\"19\" src=\"//upload.wikimedia.org/wikipedia/en/thumb/e/e7/Video-x-generic.svg/19px-Video-x-generic.svg.png\" srcset=\"//upload.wikimedia.org/wikipedia/en/thumb/e/e7/Video-x-generic.svg/29px-Video-x-generic.svg.png 1.5x, //upload.wikimedia.org/wikipedia/en/thumb/e/e7/Video-x-generic.svg/38px-Video-x-generic.svg.png 2x\" width=\"19\"/></a>,\n",
       " <a class=\"image\" href=\"/wiki/File:Flag_of_Los_Angeles_County,_California.svg\"><img alt=\"\" data-file-height=\"913\" data-file-width=\"1522\" decoding=\"async\" height=\"13\" src=\"//upload.wikimedia.org/wikipedia/commons/thumb/a/a3/Flag_of_Los_Angeles_County%2C_California.svg/21px-Flag_of_Los_Angeles_County%2C_California.svg.png\" srcset=\"//upload.wikimedia.org/wikipedia/commons/thumb/a/a3/Flag_of_Los_Angeles_County%2C_California.svg/32px-Flag_of_Los_Angeles_County%2C_California.svg.png 1.5x, //upload.wikimedia.org/wikipedia/commons/thumb/a/a3/Flag_of_Los_Angeles_County%2C_California.svg/42px-Flag_of_Los_Angeles_County%2C_California.svg.png 2x\" width=\"21\"/></a>,\n",
       " <a class=\"image\" href=\"/wiki/File:Blank_television_set.svg\"><img alt=\"\" data-file-height=\"92\" data-file-width=\"138\" decoding=\"async\" height=\"14\" src=\"//upload.wikimedia.org/wikipedia/commons/thumb/8/8c/Blank_television_set.svg/21px-Blank_television_set.svg.png\" srcset=\"//upload.wikimedia.org/wikipedia/commons/thumb/8/8c/Blank_television_set.svg/32px-Blank_television_set.svg.png 1.5x, //upload.wikimedia.org/wikipedia/commons/thumb/8/8c/Blank_television_set.svg/42px-Blank_television_set.svg.png 2x\" width=\"21\"/></a>,\n",
       " <a class=\"image\" href=\"/wiki/File:Flag_of_the_United_States.svg\"><img alt=\"\" data-file-height=\"650\" data-file-width=\"1235\" decoding=\"async\" height=\"11\" src=\"//upload.wikimedia.org/wikipedia/en/thumb/a/a4/Flag_of_the_United_States.svg/21px-Flag_of_the_United_States.svg.png\" srcset=\"//upload.wikimedia.org/wikipedia/en/thumb/a/a4/Flag_of_the_United_States.svg/32px-Flag_of_the_United_States.svg.png 1.5x, //upload.wikimedia.org/wikipedia/en/thumb/a/a4/Flag_of_the_United_States.svg/42px-Flag_of_the_United_States.svg.png 2x\" width=\"21\"/></a>]"
      ]
     },
     "execution_count": 11,
     "metadata": {},
     "output_type": "execute_result"
    }
   ],
   "source": [
    "# your code here\n",
    "\n",
    "\n",
    "response = requests.get(url)\n",
    "htlm = response.content\n",
    "#htlm\n",
    "soup = bs4.BeautifulSoup(htlm, \"html.parser\")\n",
    "#soup\n",
    "\n",
    "\n",
    "######     -----        Continuar desde aquí\n",
    "\n",
    "## Extraemos todos los elementos de h1 con la \"class\" identificada en el navegador (indicada como parametro)\n",
    "\n",
    "walt_html_images = soup.find_all(\"a\",{\"class\": \"image\"})\n",
    "\n",
    "walt_html_images\n"
   ]
  },
  {
   "cell_type": "code",
   "execution_count": 12,
   "metadata": {},
   "outputs": [
    {
     "name": "stdout",
     "output_type": "stream",
     "text": [
      "/wiki/File:Walt_Disney_1946.JPG\n",
      "\n",
      "/wiki/File:Walt_Disney_1942_signature.svg\n",
      "\n",
      "/wiki/File:Walt_Disney_envelope_ca._1921.jpg\n",
      "\n",
      "/wiki/File:Trolley_Troubles_poster.jpg\n",
      "\n",
      "/wiki/File:Steamboat-willie.jpg\n",
      "\n",
      "/wiki/File:Walt_Disney_1935.jpg\n",
      "\n",
      "/wiki/File:Walt_Disney_Snow_white_1937_trailer_screenshot_(13).jpg\n",
      "\n",
      "/wiki/File:Disney_drawing_goofy.jpg\n",
      "\n",
      "/wiki/File:DisneySchiphol1951.jpg\n",
      "\n",
      "/wiki/File:WaltDisneyplansDisneylandDec1954.jpg\n",
      "\n",
      "/wiki/File:Walt_disney_portrait_right.jpg\n",
      "\n",
      "/wiki/File:Walt_Disney_Grave.JPG\n",
      "\n",
      "/wiki/File:Roy_O._Disney_with_Company_at_Press_Conference.jpg\n",
      "\n",
      "/wiki/File:Disney_Oscar_1953_(cropped).jpg\n",
      "\n",
      "/wiki/File:Disney1968.jpg\n",
      "\n",
      "/wiki/File:Disneyland_Resort_logo.svg\n",
      "\n",
      "/wiki/File:Animation_disc.svg\n",
      "\n",
      "/wiki/File:P_vip.svg\n",
      "\n",
      "/wiki/File:Magic_Kingdom_castle.jpg\n",
      "\n",
      "/wiki/File:Video-x-generic.svg\n",
      "\n",
      "/wiki/File:Flag_of_Los_Angeles_County,_California.svg\n",
      "\n",
      "/wiki/File:Blank_television_set.svg\n",
      "\n",
      "/wiki/File:Flag_of_the_United_States.svg\n",
      "\n"
     ]
    }
   ],
   "source": [
    "## Extraemos todas las etiquetas que contienen href\n",
    "for i in walt_html_images:\n",
    "    print(i['href']+ '\\n')\n",
    "    \n",
    "#### REVISAR ESTE PASO #### Queremos sacar las url de las imagenes del"
   ]
  },
  {
   "cell_type": "markdown",
   "metadata": {},
   "source": [
    "#### Retrieve an arbitary Wikipedia page of \"Python\" and create a list of links on that page."
   ]
  },
  {
   "cell_type": "code",
   "execution_count": 56,
   "metadata": {},
   "outputs": [
    {
     "data": {
      "text/plain": [
       "b'<!DOCTYPE html>\\n<html class=\"client-nojs\" lang=\"en\" dir=\"ltr\">\\n<head>\\n<meta charset=\"UTF-8\"/>\\n<title>Python - Wikipedia</title>\\n<script>document.documentElement.className=\"client-js\";RLCONF={\"wgBreakFrames\":false,\"wgSeparatorTransformTable\":[\"\",\"\"],\"wgDigitTransformTable\":[\"\",\"\"],\"wgDefaultDateFormat\":\"dmy\",\"wgMonthNames\":[\"\",\"January\",\"February\",\"March\",\"April\",\"May\",\"June\",\"July\",\"August\",\"September\",\"October\",\"November\",\"December\"],\"wgRequestId\":\"99e4d148-4a90-4507-8533-eb01197dca92\",\"wgCSPNonce\":false,\"wgCanonicalNamespace\":\"\",\"wgCanonicalSpecialPageName\":false,\"wgNamespaceNumber\":0,\"wgPageName\":\"Python\",\"wgTitle\":\"Python\",\"wgCurRevisionId\":1058841632,\"wgRevisionId\":1058841632,\"wgArticleId\":46332325,\"wgIsArticle\":true,\"wgIsRedirect\":false,\"wgAction\":\"view\",\"wgUserName\":null,\"wgUserGroups\":[\"*\"],\"wgCategories\":[\"Disambiguation pages with short descriptions\",\"Short description is different from Wikidata\",\"All article disambiguation pages\",\"All disambiguation pages\",\"Animal common name disambiguation pages\",\"Disambiguation pages\",\"Human name disambiguation pages\",\"Disambiguation pages with given-name-holder lists\"],\\n\"wgPageContentLanguage\":\"en\",\"wgPageContentModel\":\"wikitext\",\"wgRelevantPageName\":\"Python\",\"wgRelevantArticleId\":46332325,\"wgIsProbablyEditable\":true,\"wgRelevantPageIsProbablyEditable\":true,\"wgRestrictionEdit\":[],\"wgRestrictionMove\":[],\"wgFlaggedRevsParams\":{\"tags\":{\"status\":{\"levels\":-1}}},\"wgPopupsFlags\":10,\"wgVisualEditor\":{\"pageLanguageCode\":\"en\",\"pageLanguageDir\":\"ltr\",\"pageVariantFallbacks\":\"en\"},\"wgMFDisplayWikibaseDescriptions\":{\"search\":true,\"nearby\":true,\"watchlist\":true,\"tagline\":false},\"wgWMESchemaEditAttemptStepOversample\":false,\"wgWMEPageLength\":2000,\"wgNoticeProject\":\"wikipedia\",\"wgMediaViewerOnClick\":true,\"wgMediaViewerEnabledByDefault\":true,\"wgULSCurrentAutonym\":\"English\",\"wgEditSubmitButtonLabelPublish\":true,\"wgCentralAuthMobileDomain\":false,\"wgULSPosition\":\"interlanguage\",\"wgULSisCompactLinksEnabled\":true,\"wgWikibaseItemId\":\"Q747452\",\"wgGENewcomerTasksGuidanceEnabled\":true,\"wgGEAskQuestionEnabled\":false,\"wgGELinkRecommendationsFrontendEnabled\":false};RLSTATE={\\n\"ext.globalCssJs.user.styles\":\"ready\",\"site.styles\":\"ready\",\"user.styles\":\"ready\",\"ext.globalCssJs.user\":\"ready\",\"user\":\"ready\",\"user.options\":\"loading\",\"skins.vector.styles.legacy\":\"ready\",\"ext.visualEditor.desktopArticleTarget.noscript\":\"ready\",\"ext.wikimediaBadges\":\"ready\",\"ext.uls.interlanguage\":\"ready\",\"wikibase.client.init\":\"ready\"};RLPAGEMODULES=[\"site\",\"mediawiki.page.ready\",\"mediawiki.toc\",\"skins.vector.legacy.js\",\"ext.gadget.ReferenceTooltips\",\"ext.gadget.charinsert\",\"ext.gadget.extra-toolbar-buttons\",\"ext.gadget.refToolbar\",\"ext.gadget.switcher\",\"mmv.head\",\"mmv.bootstrap.autostart\",\"ext.popups\",\"ext.visualEditor.desktopArticleTarget.init\",\"ext.visualEditor.targetLoader\",\"ext.eventLogging\",\"ext.wikimediaEvents\",\"ext.navigationTiming\",\"ext.cx.eventlogging.campaigns\",\"ext.centralNotice.geoIP\",\"ext.centralNotice.startUp\",\"ext.centralauth.centralautologin\",\"ext.uls.compactlinks\",\"ext.uls.interface\",\"ext.growthExperiments.SuggestedEditSession\"];</script>\\n<script>(RLQ=window.RLQ||[]).push(function(){mw.loader.implement(\"user.options@1hzgi\",function($,jQuery,require,module){mw.user.tokens.set({\"patrolToken\":\"+\\\\\\\\\",\"watchToken\":\"+\\\\\\\\\",\"csrfToken\":\"+\\\\\\\\\"});});});</script>\\n<link rel=\"stylesheet\" href=\"/w/load.php?lang=en&amp;modules=ext.uls.interlanguage%7Cext.visualEditor.desktopArticleTarget.noscript%7Cext.wikimediaBadges%7Cskins.vector.styles.legacy%7Cwikibase.client.init&amp;only=styles&amp;skin=vector\"/>\\n<script async=\"\" src=\"/w/load.php?lang=en&amp;modules=startup&amp;only=scripts&amp;raw=1&amp;skin=vector\"></script>\\n<meta name=\"ResourceLoaderDynamicStyles\" content=\"\"/>\\n<link rel=\"stylesheet\" href=\"/w/load.php?lang=en&amp;modules=site.styles&amp;only=styles&amp;skin=vector\"/>\\n<meta name=\"generator\" content=\"MediaWiki 1.38.0-wmf.13\"/>\\n<meta name=\"referrer\" content=\"origin\"/>\\n<meta name=\"referrer\" content=\"origin-when-crossorigin\"/>\\n<meta name=\"referrer\" content=\"origin-when-cross-origin\"/>\\n<meta name=\"format-detection\" content=\"telephone=no\"/>\\n<meta property=\"og:title\" content=\"Python - Wikipedia\"/>\\n<meta property=\"og:type\" content=\"website\"/>\\n<link rel=\"preconnect\" href=\"//upload.wikimedia.org\"/>\\n<link rel=\"alternate\" media=\"only screen and (max-width: 720px)\" href=\"//en.m.wikipedia.org/wiki/Python\"/>\\n<link rel=\"alternate\" type=\"application/x-wiki\" title=\"Edit this page\" href=\"/w/index.php?title=Python&amp;action=edit\"/>\\n<link rel=\"apple-touch-icon\" href=\"/static/apple-touch/wikipedia.png\"/>\\n<link rel=\"shortcut icon\" href=\"/static/favicon/wikipedia.ico\"/>\\n<link rel=\"search\" type=\"application/opensearchdescription+xml\" href=\"/w/opensearch_desc.php\" title=\"Wikipedia (en)\"/>\\n<link rel=\"EditURI\" type=\"application/rsd+xml\" href=\"//en.wikipedia.org/w/api.php?action=rsd\"/>\\n<link rel=\"license\" href=\"https://creativecommons.org/licenses/by-sa/3.0/\"/>\\n<link rel=\"canonical\" href=\"https://en.wikipedia.org/wiki/Python\"/>\\n<link rel=\"dns-prefetch\" href=\"//meta.wikimedia.org\" />\\n<link rel=\"dns-prefetch\" href=\"//login.wikimedia.org\"/>\\n</head>\\n<body class=\"mediawiki ltr sitedir-ltr mw-hide-empty-elt ns-0 ns-subject mw-editable page-Python rootpage-Python skin-vector action-view skin-vector-legacy\"><div id=\"mw-page-base\" class=\"noprint\"></div>\\n<div id=\"mw-head-base\" class=\"noprint\"></div>\\n<div id=\"content\" class=\"mw-body\" role=\"main\">\\n\\t<a id=\"top\"></a>\\n\\t<div id=\"siteNotice\"><!-- CentralNotice --></div>\\n\\t<div class=\"mw-indicators\">\\n\\t</div>\\n\\t<h1 id=\"firstHeading\" class=\"firstHeading\" >Python</h1>\\n\\t<div id=\"bodyContent\" class=\"vector-body\">\\n\\t\\t<div id=\"siteSub\" class=\"noprint\">From Wikipedia, the free encyclopedia</div>\\n\\t\\t<div id=\"contentSub\"></div>\\n\\t\\t<div id=\"contentSub2\"></div>\\n\\t\\t\\n\\t\\t<div id=\"jump-to-nav\"></div>\\n\\t\\t<a class=\"mw-jump-link\" href=\"#mw-head\">Jump to navigation</a>\\n\\t\\t<a class=\"mw-jump-link\" href=\"#searchInput\">Jump to search</a>\\n\\t\\t<div id=\"mw-content-text\" class=\"mw-body-content mw-content-ltr\" lang=\"en\" dir=\"ltr\"><div class=\"mw-parser-output\"><table role=\"presentation\" class=\"mbox-small plainlinks sistersitebox\" style=\"background-color:#f9f9f9;border:1px solid #aaa;color:#000\">\\n<tbody><tr>\\n<td class=\"mbox-image\"><img alt=\"\" src=\"//upload.wikimedia.org/wikipedia/commons/thumb/9/99/Wiktionary-logo-en-v2.svg/40px-Wiktionary-logo-en-v2.svg.png\" decoding=\"async\" width=\"40\" height=\"40\" class=\"noviewer\" srcset=\"//upload.wikimedia.org/wikipedia/commons/thumb/9/99/Wiktionary-logo-en-v2.svg/60px-Wiktionary-logo-en-v2.svg.png 1.5x, //upload.wikimedia.org/wikipedia/commons/thumb/9/99/Wiktionary-logo-en-v2.svg/80px-Wiktionary-logo-en-v2.svg.png 2x\" data-file-width=\"512\" data-file-height=\"512\" /></td>\\n<td class=\"mbox-text plainlist\">Look up <i><b><a href=\"https://en.wiktionary.org/wiki/Python\" class=\"extiw\" title=\"wiktionary:Python\">Python</a></b></i>&#160;or <i><b><a href=\"https://en.wiktionary.org/wiki/python\" class=\"extiw\" title=\"wiktionary:python\">python</a></b></i> in Wiktionary, the free dictionary.</td></tr>\\n</tbody></table>\\n<p><b>Python</b> may refer to:\\n</p>\\n<ul><li><a href=\"/wiki/Pythonidae\" title=\"Pythonidae\">Pythonidae</a>, a family of nonvenomous snakes found in Africa, Asia, and Australia\\n<ul><li><a href=\"/wiki/Python_(genus)\" title=\"Python (genus)\"><i>Python</i> (genus)</a>, a genus of nonvenomous Pythonidae found in Africa and Asia</li></ul></li></ul>\\n<style data-mw-deduplicate=\"TemplateStyles:r1044870489\">@media all and (max-width:720px){body.skin-minerva .mw-parser-output .tocright{display:none}.mw-parser-output .tocright{width:100%!important}}@media all and (min-width:720px){.mw-parser-output .tocright{float:right;clear:right;width:auto;margin:0 0 0.5em 1em}.mw-parser-output .tocright-clear-left{clear:left}.mw-parser-output .tocright-clear-both{clear:both}.mw-parser-output .tocright-clear-none{clear:none}}</style><div class=\"tocright\"><div id=\"toc\" class=\"toc\" role=\"navigation\" aria-labelledby=\"mw-toc-heading\"><input type=\"checkbox\" role=\"button\" id=\"toctogglecheckbox\" class=\"toctogglecheckbox\" style=\"display:none\" /><div class=\"toctitle\" lang=\"en\" dir=\"ltr\"><h2 id=\"mw-toc-heading\">Contents</h2><span class=\"toctogglespan\"><label class=\"toctogglelabel\" for=\"toctogglecheckbox\"></label></span></div>\\n<ul>\\n<li class=\"toclevel-1 tocsection-1\"><a href=\"#Computing\"><span class=\"tocnumber\">1</span> <span class=\"toctext\">Computing</span></a></li>\\n<li class=\"toclevel-1 tocsection-2\"><a href=\"#People\"><span class=\"tocnumber\">2</span> <span class=\"toctext\">People</span></a></li>\\n<li class=\"toclevel-1 tocsection-3\"><a href=\"#Roller_coasters\"><span class=\"tocnumber\">3</span> <span class=\"toctext\">Roller coasters</span></a></li>\\n<li class=\"toclevel-1 tocsection-4\"><a href=\"#Vehicles\"><span class=\"tocnumber\">4</span> <span class=\"toctext\">Vehicles</span></a></li>\\n<li class=\"toclevel-1 tocsection-5\"><a href=\"#Weaponry\"><span class=\"tocnumber\">5</span> <span class=\"toctext\">Weaponry</span></a></li>\\n<li class=\"toclevel-1 tocsection-6\"><a href=\"#Other_uses\"><span class=\"tocnumber\">6</span> <span class=\"toctext\">Other uses</span></a></li>\\n<li class=\"toclevel-1 tocsection-7\"><a href=\"#See_also\"><span class=\"tocnumber\">7</span> <span class=\"toctext\">See also</span></a></li>\\n</ul>\\n</div>\\n</div>\\n<h2><span class=\"mw-headline\" id=\"Computing\">Computing</span><span class=\"mw-editsection\"><span class=\"mw-editsection-bracket\">[</span><a href=\"/w/index.php?title=Python&amp;action=edit&amp;section=1\" title=\"Edit section: Computing\">edit</a><span class=\"mw-editsection-bracket\">]</span></span></h2>\\n<ul><li><a href=\"/wiki/Python_(programming_language)\" title=\"Python (programming language)\">Python (programming language)</a></li>\\n<li>Python, a native code compiler for <a href=\"/wiki/CMU_Common_Lisp\" title=\"CMU Common Lisp\">CMU Common Lisp</a></li>\\n<li>Python, the internal project name for the <a href=\"/wiki/PERQ#PERQ_3\" title=\"PERQ\">PERQ 3</a> computer workstation</li></ul>\\n<h2><span class=\"mw-headline\" id=\"People\">People</span><span class=\"mw-editsection\"><span class=\"mw-editsection-bracket\">[</span><a href=\"/w/index.php?title=Python&amp;action=edit&amp;section=2\" title=\"Edit section: People\">edit</a><span class=\"mw-editsection-bracket\">]</span></span></h2>\\n<ul><li><a href=\"/wiki/Python_of_Aenus\" title=\"Python of Aenus\">Python of Aenus</a> (4th-century BCE), student of Plato</li>\\n<li><a href=\"/wiki/Python_(painter)\" title=\"Python (painter)\">Python (painter)</a>, (ca. 360\\xe2\\x80\\x93320 BCE) vase painter in Poseidonia</li>\\n<li><a href=\"/wiki/Python_of_Byzantium\" title=\"Python of Byzantium\">Python of Byzantium</a>, orator, diplomat of Philip II of Macedon</li>\\n<li><a href=\"/wiki/Python_of_Catana\" title=\"Python of Catana\">Python of Catana</a>, poet who accompanied Alexander the Great</li>\\n<li><a href=\"/wiki/Python_Anghelo\" title=\"Python Anghelo\">Python Anghelo</a> (1954\\xe2\\x80\\x932014) Romanian graphic artist</li></ul>\\n<h2><span class=\"mw-headline\" id=\"Roller_coasters\">Roller coasters</span><span class=\"mw-editsection\"><span class=\"mw-editsection-bracket\">[</span><a href=\"/w/index.php?title=Python&amp;action=edit&amp;section=3\" title=\"Edit section: Roller coasters\">edit</a><span class=\"mw-editsection-bracket\">]</span></span></h2>\\n<ul><li><a href=\"/wiki/Python_(Efteling)\" title=\"Python (Efteling)\">Python (Efteling)</a>, a roller coaster in the Netherlands</li>\\n<li><a href=\"/wiki/Python_(Busch_Gardens_Tampa_Bay)\" title=\"Python (Busch Gardens Tampa Bay)\">Python (Busch Gardens Tampa Bay)</a>, a defunct roller coaster</li>\\n<li><a href=\"/wiki/Python_(Coney_Island,_Cincinnati,_Ohio)\" title=\"Python (Coney Island, Cincinnati, Ohio)\">Python (Coney Island, Cincinnati, Ohio)</a>, a steel roller coaster</li></ul>\\n<h2><span class=\"mw-headline\" id=\"Vehicles\">Vehicles</span><span class=\"mw-editsection\"><span class=\"mw-editsection-bracket\">[</span><a href=\"/w/index.php?title=Python&amp;action=edit&amp;section=4\" title=\"Edit section: Vehicles\">edit</a><span class=\"mw-editsection-bracket\">]</span></span></h2>\\n<ul><li><a href=\"/wiki/Python_(automobile_maker)\" title=\"Python (automobile maker)\">Python (automobile maker)</a>, an Australian car company</li>\\n<li><a href=\"/wiki/Python_(Ford_prototype)\" title=\"Python (Ford prototype)\">Python (Ford prototype)</a>, a Ford prototype sports car</li></ul>\\n<h2><span class=\"mw-headline\" id=\"Weaponry\">Weaponry</span><span class=\"mw-editsection\"><span class=\"mw-editsection-bracket\">[</span><a href=\"/w/index.php?title=Python&amp;action=edit&amp;section=5\" title=\"Edit section: Weaponry\">edit</a><span class=\"mw-editsection-bracket\">]</span></span></h2>\\n<ul><li><a href=\"/wiki/Python_(missile)\" title=\"Python (missile)\">Python (missile)</a>, a series of Israeli air-to-air missiles</li>\\n<li><a href=\"/wiki/Python_(nuclear_primary)\" title=\"Python (nuclear primary)\">Python (nuclear primary)</a>, a gas-boosted fission primary used in thermonuclear weapons</li>\\n<li><a href=\"/wiki/Colt_Python\" title=\"Colt Python\">Colt Python</a>, a revolver</li></ul>\\n<h2><span class=\"mw-headline\" id=\"Other_uses\">Other uses</span><span class=\"mw-editsection\"><span class=\"mw-editsection-bracket\">[</span><a href=\"/w/index.php?title=Python&amp;action=edit&amp;section=6\" title=\"Edit section: Other uses\">edit</a><span class=\"mw-editsection-bracket\">]</span></span></h2>\\n<ul><li><a href=\"/wiki/PYTHON\" title=\"PYTHON\">PYTHON</a>, a British nuclear war contingency plan</li>\\n<li><a href=\"/wiki/Python_(film)\" title=\"Python (film)\"><i>Python</i> (film)</a>, a 2000 horror film by Richard Clabaugh</li>\\n<li><a href=\"/wiki/Python_(mythology)\" title=\"Python (mythology)\">Python (mythology)</a>, a mythical serpent</li>\\n<li><a href=\"/wiki/Monty_Python\" title=\"Monty Python\">Monty Python</a> or the Pythons, a British comedy group\\n<ul><li><a href=\"/wiki/Python_(Monty)_Pictures\" title=\"Python (Monty) Pictures\">Python (Monty) Pictures</a>, a company owned by the troupe\\'s surviving members</li></ul></li></ul>\\n<h2><span class=\"mw-headline\" id=\"See_also\">See also</span><span class=\"mw-editsection\"><span class=\"mw-editsection-bracket\">[</span><a href=\"/w/index.php?title=Python&amp;action=edit&amp;section=7\" title=\"Edit section: See also\">edit</a><span class=\"mw-editsection-bracket\">]</span></span></h2>\\n<ul><li><a href=\"/wiki/Cython\" title=\"Cython\">Cython</a>, a programming language superset of Python</li>\\n<li><i><a href=\"/wiki/Pyton\" title=\"Pyton\">Pyton</a></i>, a Norwegian magazine</li>\\n<li><a href=\"/wiki/Pithon\" title=\"Pithon\">Pithon</a></li></ul>\\n<div class=\"shortdescription nomobile noexcerpt noprint searchaux\" style=\"display:none\">Topics referred to by the same term</div>\\n<style data-mw-deduplicate=\"TemplateStyles:r1008001242\">.mw-parser-output .dmbox{display:flex;align-items:center;clear:both;margin:0.9em 1em;border-top:1px solid #ccc;border-bottom:1px solid #ccc;padding:0.25em 0.35em;font-style:italic}.mw-parser-output .dmbox>*{flex-shrink:0;margin:0 0.25em;display:inline}.mw-parser-output .dmbox-body{flex-grow:1;flex-shrink:1;padding:0.1em 0}</style>\\n<div role=\"note\" id=\"disambigbox\" class=\"metadata plainlinks dmbox dmbox-disambig\"><a href=\"/wiki/File:Disambig_gray.svg\" class=\"image\"><img alt=\"Disambiguation icon\" src=\"//upload.wikimedia.org/wikipedia/en/thumb/5/5f/Disambig_gray.svg/30px-Disambig_gray.svg.png\" decoding=\"async\" width=\"30\" height=\"23\" srcset=\"//upload.wikimedia.org/wikipedia/en/thumb/5/5f/Disambig_gray.svg/45px-Disambig_gray.svg.png 1.5x, //upload.wikimedia.org/wikipedia/en/thumb/5/5f/Disambig_gray.svg/60px-Disambig_gray.svg.png 2x\" data-file-width=\"220\" data-file-height=\"168\" /></a><div class=\"dmbox-body\"> This <a href=\"/wiki/Help:Disambiguation\" title=\"Help:Disambiguation\">disambiguation</a> page lists  articles associated with the title <b>Python</b>.<br /><small>If an <a class=\"external text\" href=\"https://en.wikipedia.org/w/index.php?title=Special:WhatLinksHere/Python&amp;namespace=0\">internal link</a> led you here, you may wish to change the link to point directly to the intended article.</small> </div>\\n</div>\\n<!-- \\nNewPP limit report\\nParsed by mw1326\\nCached time: 20211210185104\\nCache expiry: 1814400\\nReduced expiry: false\\nComplications: []\\nCPU time usage: 0.188 seconds\\nReal time usage: 0.298 seconds\\nPreprocessor visited node count: 1310/1000000\\nPost\\xe2\\x80\\x90expand include size: 6486/2097152 bytes\\nTemplate argument size: 1310/2097152 bytes\\nHighest expansion depth: 13/40\\nExpensive parser function count: 1/500\\nUnstrip recursion depth: 0/20\\nUnstrip post\\xe2\\x80\\x90expand size: 946/5000000 bytes\\nLua time usage: 0.045/10.000 seconds\\nLua memory usage: 1357702/52428800 bytes\\nNumber of Wikibase entities loaded: 0/400\\n-->\\n<!--\\nTransclusion expansion time report (%,ms,calls,template)\\n100.00%  258.939      1 -total\\n 62.18%  161.009      1 Template:Disambiguation\\n 30.99%   80.238      1 Template:Wiktionary\\n 29.41%   76.141      1 Template:Sister_project\\n 27.92%   72.288      1 Template:Side_box\\n 27.41%   70.975      1 Template:Dmbox\\n 22.09%   57.195      1 Template:Disambiguation_page_short_description\\n 19.57%   50.662      1 Template:Short_description\\n 17.56%   45.466      4 Template:Main_other\\n  9.66%   25.004      1 Template:Category_handler\\n-->\\n\\n<!-- Saved in parser cache with key enwiki:pcache:idhash:46332325-0!canonical and timestamp 20211210185103 and revision id 1058841632. Serialized with JSON.\\n -->\\n</div><noscript><img src=\"//en.wikipedia.org/wiki/Special:CentralAutoLogin/start?type=1x1\" alt=\"\" title=\"\" width=\"1\" height=\"1\" style=\"border: none; position: absolute;\" /></noscript>\\n<div class=\"printfooter\">Retrieved from \"<a dir=\"ltr\" href=\"https://en.wikipedia.org/w/index.php?title=Python&amp;oldid=1058841632\">https://en.wikipedia.org/w/index.php?title=Python&amp;oldid=1058841632</a>\"</div></div>\\n\\t\\t<div id=\"catlinks\" class=\"catlinks\" data-mw=\"interface\"><div id=\"mw-normal-catlinks\" class=\"mw-normal-catlinks\"><a href=\"/wiki/Help:Category\" title=\"Help:Category\">Categories</a>: <ul><li><a href=\"/wiki/Category:Disambiguation_pages\" title=\"Category:Disambiguation pages\">Disambiguation pages</a></li><li><a href=\"/wiki/Category:Human_name_disambiguation_pages\" title=\"Category:Human name disambiguation pages\">Human name disambiguation pages</a></li><li><a href=\"/wiki/Category:Disambiguation_pages_with_given-name-holder_lists\" title=\"Category:Disambiguation pages with given-name-holder lists\">Disambiguation pages with given-name-holder lists</a></li></ul></div><div id=\"mw-hidden-catlinks\" class=\"mw-hidden-catlinks mw-hidden-cats-hidden\">Hidden categories: <ul><li><a href=\"/wiki/Category:Disambiguation_pages_with_short_descriptions\" title=\"Category:Disambiguation pages with short descriptions\">Disambiguation pages with short descriptions</a></li><li><a href=\"/wiki/Category:Short_description_is_different_from_Wikidata\" title=\"Category:Short description is different from Wikidata\">Short description is different from Wikidata</a></li><li><a href=\"/wiki/Category:All_article_disambiguation_pages\" title=\"Category:All article disambiguation pages\">All article disambiguation pages</a></li><li><a href=\"/wiki/Category:All_disambiguation_pages\" title=\"Category:All disambiguation pages\">All disambiguation pages</a></li><li><a href=\"/wiki/Category:Animal_common_name_disambiguation_pages\" title=\"Category:Animal common name disambiguation pages\">Animal common name disambiguation pages</a></li></ul></div></div>\\n\\t</div>\\n</div>\\n<div id=\\'mw-data-after-content\\'>\\n\\t<div class=\"read-more-container\"></div>\\n</div>\\n\\n<div id=\"mw-navigation\">\\n\\t<h2>Navigation menu</h2>\\n\\t<div id=\"mw-head\">\\n\\t\\t<nav id=\"p-personal\" class=\"mw-portlet mw-portlet-personal vector-user-menu-legacy vector-menu\" aria-labelledby=\"p-personal-label\" role=\"navigation\" \\n\\t >\\n\\t<h3 id=\"p-personal-label\" aria-label=\"\" class=\"vector-menu-heading\">\\n\\t\\t<span class=\"vector-menu-heading-label\">Personal tools</span>\\n\\t</h3>\\n\\t<div class=\"vector-menu-content\">\\n\\t\\t\\n\\t\\t<ul class=\"vector-menu-content-list\"><li id=\"pt-anonuserpage\" class=\"mw-list-item\"><span>Not logged in</span></li><li id=\"pt-anontalk\" class=\"mw-list-item\"><a href=\"/wiki/Special:MyTalk\" title=\"Discussion about edits from this IP address [n]\" accesskey=\"n\"><span>Talk</span></a></li><li id=\"pt-anoncontribs\" class=\"mw-list-item\"><a href=\"/wiki/Special:MyContributions\" title=\"A list of edits made from this IP address [y]\" accesskey=\"y\"><span>Contributions</span></a></li><li id=\"pt-createaccount\" class=\"mw-list-item\"><a href=\"/w/index.php?title=Special:CreateAccount&amp;returnto=Python\" title=\"You are encouraged to create an account and log in; however, it is not mandatory\"><span>Create account</span></a></li><li id=\"pt-login\" class=\"mw-list-item\"><a href=\"/w/index.php?title=Special:UserLogin&amp;returnto=Python\" title=\"You&#039;re encouraged to log in; however, it&#039;s not mandatory. [o]\" accesskey=\"o\"><span>Log in</span></a></li></ul>\\n\\t\\t\\n\\t</div>\\n</nav>\\n\\n\\t\\t<div id=\"left-navigation\">\\n\\t\\t\\t<nav id=\"p-namespaces\" class=\"mw-portlet mw-portlet-namespaces vector-menu vector-menu-tabs\" aria-labelledby=\"p-namespaces-label\" role=\"navigation\" \\n\\t >\\n\\t<h3 id=\"p-namespaces-label\" aria-label=\"\" class=\"vector-menu-heading\">\\n\\t\\t<span class=\"vector-menu-heading-label\">Namespaces</span>\\n\\t</h3>\\n\\t<div class=\"vector-menu-content\">\\n\\t\\t\\n\\t\\t<ul class=\"vector-menu-content-list\"><li id=\"ca-nstab-main\" class=\"selected mw-list-item\"><a href=\"/wiki/Python\" title=\"View the content page [c]\" accesskey=\"c\"><span>Article</span></a></li><li id=\"ca-talk\" class=\"mw-list-item\"><a href=\"/wiki/Talk:Python\" rel=\"discussion\" title=\"Discuss improvements to the content page [t]\" accesskey=\"t\"><span>Talk</span></a></li></ul>\\n\\t\\t\\n\\t</div>\\n</nav>\\n\\n\\t\\t\\t<nav id=\"p-variants\" class=\"mw-portlet mw-portlet-variants emptyPortlet vector-menu-dropdown-noicon vector-menu vector-menu-dropdown\" aria-labelledby=\"p-variants-label\" role=\"navigation\" \\n\\t >\\n\\t<input type=\"checkbox\"\\n\\t\\tid=\"p-variants-checkbox\"\\n\\t\\trole=\"button\"\\n\\t\\taria-haspopup=\"true\"\\n\\t\\tdata-event-name=\"ui.dropdown-p-variants\"\\n\\t\\tclass=\"vector-menu-checkbox\" aria-labelledby=\"p-variants-label\" />\\n\\t<h3 id=\"p-variants-label\" aria-label=\"Change language variant\" class=\"vector-menu-heading\">\\n\\t\\t<span class=\"vector-menu-heading-label\">Variants</span>\\n\\t\\t\\t<span class=\"vector-menu-checkbox-expanded\">expanded</span>\\n\\t\\t\\t<span class=\"vector-menu-checkbox-collapsed\">collapsed</span>\\n\\t</h3>\\n\\t<div class=\"vector-menu-content\">\\n\\t\\t\\n\\t\\t<ul class=\"vector-menu-content-list\"></ul>\\n\\t\\t\\n\\t</div>\\n</nav>\\n\\n\\t\\t</div>\\n\\t\\t<div id=\"right-navigation\">\\n\\t\\t\\t<nav id=\"p-views\" class=\"mw-portlet mw-portlet-views vector-menu vector-menu-tabs\" aria-labelledby=\"p-views-label\" role=\"navigation\" \\n\\t >\\n\\t<h3 id=\"p-views-label\" aria-label=\"\" class=\"vector-menu-heading\">\\n\\t\\t<span class=\"vector-menu-heading-label\">Views</span>\\n\\t</h3>\\n\\t<div class=\"vector-menu-content\">\\n\\t\\t\\n\\t\\t<ul class=\"vector-menu-content-list\"><li id=\"ca-view\" class=\"selected mw-list-item\"><a href=\"/wiki/Python\"><span>Read</span></a></li><li id=\"ca-edit\" class=\"mw-list-item\"><a href=\"/w/index.php?title=Python&amp;action=edit\" title=\"Edit this page [e]\" accesskey=\"e\"><span>Edit</span></a></li><li id=\"ca-history\" class=\"mw-list-item\"><a href=\"/w/index.php?title=Python&amp;action=history\" title=\"Past revisions of this page [h]\" accesskey=\"h\"><span>View history</span></a></li></ul>\\n\\t\\t\\n\\t</div>\\n</nav>\\n\\n\\t\\t\\t<nav id=\"p-cactions\" class=\"mw-portlet mw-portlet-cactions emptyPortlet vector-menu-dropdown-noicon vector-menu vector-menu-dropdown\" aria-labelledby=\"p-cactions-label\" role=\"navigation\"  title=\"More options\"\\n\\t >\\n\\t<input type=\"checkbox\"\\n\\t\\tid=\"p-cactions-checkbox\"\\n\\t\\trole=\"button\"\\n\\t\\taria-haspopup=\"true\"\\n\\t\\tdata-event-name=\"ui.dropdown-p-cactions\"\\n\\t\\tclass=\"vector-menu-checkbox\" aria-labelledby=\"p-cactions-label\" />\\n\\t<h3 id=\"p-cactions-label\" aria-label=\"\" class=\"vector-menu-heading\">\\n\\t\\t<span class=\"vector-menu-heading-label\">More</span>\\n\\t\\t\\t<span class=\"vector-menu-checkbox-expanded\">expanded</span>\\n\\t\\t\\t<span class=\"vector-menu-checkbox-collapsed\">collapsed</span>\\n\\t</h3>\\n\\t<div class=\"vector-menu-content\">\\n\\t\\t\\n\\t\\t<ul class=\"vector-menu-content-list\"></ul>\\n\\t\\t\\n\\t</div>\\n</nav>\\n\\n\\t\\t\\t<div id=\"p-search\" role=\"search\" class=\" vector-search-box\">\\n\\t<div>\\n\\t\\t\\t<h3 >\\n\\t\\t\\t\\t<label for=\"searchInput\">Search</label>\\n\\t\\t\\t</h3>\\n\\t\\t<form action=\"/w/index.php\" id=\"searchform\"\\n\\t\\t\\tclass=\"vector-search-box-form\">\\n\\t\\t\\t<div id=\"simpleSearch\"\\n\\t\\t\\t\\tclass=\"vector-search-box-inner\"\\n\\t\\t\\t\\t data-search-loc=\"header-navigation\">\\n\\t\\t\\t\\t<input class=\"vector-search-box-input\"\\n\\t\\t\\t\\t\\t type=\"search\" name=\"search\" placeholder=\"Search Wikipedia\" aria-label=\"Search Wikipedia\" autocapitalize=\"sentences\" title=\"Search Wikipedia [f]\" accesskey=\"f\" id=\"searchInput\"\\n\\t\\t\\t\\t/>\\n\\t\\t\\t\\t<input type=\"hidden\" name=\"title\" value=\"Special:Search\"/>\\n\\t\\t\\t\\t<input id=\"mw-searchButton\"\\n\\t\\t\\t\\t\\t class=\"searchButton mw-fallbackSearchButton\" type=\"submit\" name=\"fulltext\" title=\"Search Wikipedia for this text\" value=\"Search\" />\\n\\t\\t\\t\\t<input id=\"searchButton\"\\n\\t\\t\\t\\t\\t class=\"searchButton\" type=\"submit\" name=\"go\" title=\"Go to a page with this exact name if it exists\" value=\"Go\" />\\n\\t\\t\\t</div>\\n\\t\\t</form>\\n\\t</div>\\n</div>\\n\\n\\t\\t</div>\\n\\t</div>\\n\\t\\n<div id=\"mw-panel\">\\n\\t<div id=\"p-logo\" role=\"banner\">\\n\\t\\t<a class=\"mw-wiki-logo\" href=\"/wiki/Main_Page\"\\n\\t\\t\\ttitle=\"Visit the main page\"></a>\\n\\t</div>\\n\\t<nav id=\"p-navigation\" class=\"mw-portlet mw-portlet-navigation vector-menu vector-menu-portal portal\" aria-labelledby=\"p-navigation-label\" role=\"navigation\" \\n\\t >\\n\\t<h3 id=\"p-navigation-label\" aria-label=\"\" class=\"vector-menu-heading\">\\n\\t\\t<span class=\"vector-menu-heading-label\">Navigation</span>\\n\\t</h3>\\n\\t<div class=\"vector-menu-content\">\\n\\t\\t\\n\\t\\t<ul class=\"vector-menu-content-list\"><li id=\"n-mainpage-description\" class=\"mw-list-item\"><a href=\"/wiki/Main_Page\" title=\"Visit the main page [z]\" accesskey=\"z\"><span>Main page</span></a></li><li id=\"n-contents\" class=\"mw-list-item\"><a href=\"/wiki/Wikipedia:Contents\" title=\"Guides to browsing Wikipedia\"><span>Contents</span></a></li><li id=\"n-currentevents\" class=\"mw-list-item\"><a href=\"/wiki/Portal:Current_events\" title=\"Articles related to current events\"><span>Current events</span></a></li><li id=\"n-randompage\" class=\"mw-list-item\"><a href=\"/wiki/Special:Random\" title=\"Visit a randomly selected article [x]\" accesskey=\"x\"><span>Random article</span></a></li><li id=\"n-aboutsite\" class=\"mw-list-item\"><a href=\"/wiki/Wikipedia:About\" title=\"Learn about Wikipedia and how it works\"><span>About Wikipedia</span></a></li><li id=\"n-contactpage\" class=\"mw-list-item\"><a href=\"//en.wikipedia.org/wiki/Wikipedia:Contact_us\" title=\"How to contact Wikipedia\"><span>Contact us</span></a></li><li id=\"n-sitesupport\" class=\"mw-list-item\"><a href=\"https://donate.wikimedia.org/wiki/Special:FundraiserRedirector?utm_source=donate&amp;utm_medium=sidebar&amp;utm_campaign=C13_en.wikipedia.org&amp;uselang=en\" title=\"Support us by donating to the Wikimedia Foundation\"><span>Donate</span></a></li></ul>\\n\\t\\t\\n\\t</div>\\n</nav>\\n\\n\\t<nav id=\"p-interaction\" class=\"mw-portlet mw-portlet-interaction vector-menu vector-menu-portal portal\" aria-labelledby=\"p-interaction-label\" role=\"navigation\" \\n\\t >\\n\\t<h3 id=\"p-interaction-label\" aria-label=\"\" class=\"vector-menu-heading\">\\n\\t\\t<span class=\"vector-menu-heading-label\">Contribute</span>\\n\\t</h3>\\n\\t<div class=\"vector-menu-content\">\\n\\t\\t\\n\\t\\t<ul class=\"vector-menu-content-list\"><li id=\"n-help\" class=\"mw-list-item\"><a href=\"/wiki/Help:Contents\" title=\"Guidance on how to use and edit Wikipedia\"><span>Help</span></a></li><li id=\"n-introduction\" class=\"mw-list-item\"><a href=\"/wiki/Help:Introduction\" title=\"Learn how to edit Wikipedia\"><span>Learn to edit</span></a></li><li id=\"n-portal\" class=\"mw-list-item\"><a href=\"/wiki/Wikipedia:Community_portal\" title=\"The hub for editors\"><span>Community portal</span></a></li><li id=\"n-recentchanges\" class=\"mw-list-item\"><a href=\"/wiki/Special:RecentChanges\" title=\"A list of recent changes to Wikipedia [r]\" accesskey=\"r\"><span>Recent changes</span></a></li><li id=\"n-upload\" class=\"mw-list-item\"><a href=\"/wiki/Wikipedia:File_Upload_Wizard\" title=\"Add images or other media for use on Wikipedia\"><span>Upload file</span></a></li></ul>\\n\\t\\t\\n\\t</div>\\n</nav>\\n<nav id=\"p-tb\" class=\"mw-portlet mw-portlet-tb vector-menu vector-menu-portal portal\" aria-labelledby=\"p-tb-label\" role=\"navigation\" \\n\\t >\\n\\t<h3 id=\"p-tb-label\" aria-label=\"\" class=\"vector-menu-heading\">\\n\\t\\t<span class=\"vector-menu-heading-label\">Tools</span>\\n\\t</h3>\\n\\t<div class=\"vector-menu-content\">\\n\\t\\t\\n\\t\\t<ul class=\"vector-menu-content-list\"><li id=\"t-whatlinkshere\" class=\"mw-list-item\"><a href=\"/wiki/Special:WhatLinksHere/Python\" title=\"List of all English Wikipedia pages containing links to this page [j]\" accesskey=\"j\"><span>What links here</span></a></li><li id=\"t-recentchangeslinked\" class=\"mw-list-item\"><a href=\"/wiki/Special:RecentChangesLinked/Python\" rel=\"nofollow\" title=\"Recent changes in pages linked from this page [k]\" accesskey=\"k\"><span>Related changes</span></a></li><li id=\"t-upload\" class=\"mw-list-item\"><a href=\"/wiki/Wikipedia:File_Upload_Wizard\" title=\"Upload files [u]\" accesskey=\"u\"><span>Upload file</span></a></li><li id=\"t-specialpages\" class=\"mw-list-item\"><a href=\"/wiki/Special:SpecialPages\" title=\"A list of all special pages [q]\" accesskey=\"q\"><span>Special pages</span></a></li><li id=\"t-permalink\" class=\"mw-list-item\"><a href=\"/w/index.php?title=Python&amp;oldid=1058841632\" title=\"Permanent link to this revision of this page\"><span>Permanent link</span></a></li><li id=\"t-info\" class=\"mw-list-item\"><a href=\"/w/index.php?title=Python&amp;action=info\" title=\"More information about this page\"><span>Page information</span></a></li><li id=\"t-cite\" class=\"mw-list-item\"><a href=\"/w/index.php?title=Special:CiteThisPage&amp;page=Python&amp;id=1058841632&amp;wpFormIdentifier=titleform\" title=\"Information on how to cite this page\"><span>Cite this page</span></a></li><li id=\"t-wikibase\" class=\"mw-list-item\"><a href=\"https://www.wikidata.org/wiki/Special:EntityPage/Q747452\" title=\"Structured data on this page hosted by Wikidata [g]\" accesskey=\"g\"><span>Wikidata item</span></a></li></ul>\\n\\t\\t\\n\\t</div>\\n</nav>\\n<nav id=\"p-coll-print_export\" class=\"mw-portlet mw-portlet-coll-print_export vector-menu vector-menu-portal portal\" aria-labelledby=\"p-coll-print_export-label\" role=\"navigation\" \\n\\t >\\n\\t<h3 id=\"p-coll-print_export-label\" aria-label=\"\" class=\"vector-menu-heading\">\\n\\t\\t<span class=\"vector-menu-heading-label\">Print/export</span>\\n\\t</h3>\\n\\t<div class=\"vector-menu-content\">\\n\\t\\t\\n\\t\\t<ul class=\"vector-menu-content-list\"><li id=\"coll-download-as-rl\" class=\"mw-list-item\"><a href=\"/w/index.php?title=Special:DownloadAsPdf&amp;page=Python&amp;action=show-download-screen\" title=\"Download this page as a PDF file\"><span>Download as PDF</span></a></li><li id=\"t-print\" class=\"mw-list-item\"><a href=\"/w/index.php?title=Python&amp;printable=yes\" title=\"Printable version of this page [p]\" accesskey=\"p\"><span>Printable version</span></a></li></ul>\\n\\t\\t\\n\\t</div>\\n</nav>\\n<nav id=\"p-wikibase-otherprojects\" class=\"mw-portlet mw-portlet-wikibase-otherprojects vector-menu vector-menu-portal portal\" aria-labelledby=\"p-wikibase-otherprojects-label\" role=\"navigation\" \\n\\t >\\n\\t<h3 id=\"p-wikibase-otherprojects-label\" aria-label=\"\" class=\"vector-menu-heading\">\\n\\t\\t<span class=\"vector-menu-heading-label\">In other projects</span>\\n\\t</h3>\\n\\t<div class=\"vector-menu-content\">\\n\\t\\t\\n\\t\\t<ul class=\"vector-menu-content-list\"><li class=\"wb-otherproject-link wb-otherproject-commons mw-list-item\"><a href=\"https://commons.wikimedia.org/wiki/Category:Python\" hreflang=\"en\"><span>Wikimedia Commons</span></a></li></ul>\\n\\t\\t\\n\\t</div>\\n</nav>\\n\\n\\t<nav id=\"p-lang\" class=\"mw-portlet mw-portlet-lang vector-menu vector-menu-portal portal\" aria-labelledby=\"p-lang-label\" role=\"navigation\" \\n\\t >\\n\\t<h3 id=\"p-lang-label\" aria-label=\"\" class=\"vector-menu-heading\">\\n\\t\\t<span class=\"vector-menu-heading-label\">Languages</span>\\n\\t</h3>\\n\\t<div class=\"vector-menu-content\">\\n\\t\\t\\n\\t\\t<ul class=\"vector-menu-content-list\"><li class=\"interlanguage-link interwiki-af mw-list-item\"><a href=\"https://af.wikipedia.org/wiki/Python\" title=\"Python \\xe2\\x80\\x93 Afrikaans\" lang=\"af\" hreflang=\"af\" class=\"interlanguage-link-target\"><span>Afrikaans</span></a></li><li class=\"interlanguage-link interwiki-als mw-list-item\"><a href=\"https://als.wikipedia.org/wiki/Python\" title=\"Python \\xe2\\x80\\x93 Alemannisch\" lang=\"gsw\" hreflang=\"gsw\" class=\"interlanguage-link-target\"><span>Alemannisch</span></a></li><li class=\"interlanguage-link interwiki-ar mw-list-item\"><a href=\"https://ar.wikipedia.org/wiki/%D8%A8%D8%A7%D9%8A%D8%AB%D9%88%D9%86_(%D8%AA%D9%88%D8%B6%D9%8A%D8%AD)\" title=\"\\xd8\\xa8\\xd8\\xa7\\xd9\\x8a\\xd8\\xab\\xd9\\x88\\xd9\\x86 (\\xd8\\xaa\\xd9\\x88\\xd8\\xb6\\xd9\\x8a\\xd8\\xad) \\xe2\\x80\\x93 Arabic\" lang=\"ar\" hreflang=\"ar\" class=\"interlanguage-link-target\"><span>\\xd8\\xa7\\xd9\\x84\\xd8\\xb9\\xd8\\xb1\\xd8\\xa8\\xd9\\x8a\\xd8\\xa9</span></a></li><li class=\"interlanguage-link interwiki-az mw-list-item\"><a href=\"https://az.wikipedia.org/wiki/Python\" title=\"Python \\xe2\\x80\\x93 Azerbaijani\" lang=\"az\" hreflang=\"az\" class=\"interlanguage-link-target\"><span>Az\\xc9\\x99rbaycanca</span></a></li><li class=\"interlanguage-link interwiki-bn mw-list-item\"><a href=\"https://bn.wikipedia.org/wiki/%E0%A6%AA%E0%A6%BE%E0%A6%87%E0%A6%A5%E0%A6%A8_(%E0%A6%A6%E0%A7%8D%E0%A6%AC%E0%A7%8D%E0%A6%AF%E0%A6%B0%E0%A7%8D%E0%A6%A5%E0%A6%A4%E0%A6%BE_%E0%A6%A8%E0%A6%BF%E0%A6%B0%E0%A6%B8%E0%A6%A8)\" title=\"\\xe0\\xa6\\xaa\\xe0\\xa6\\xbe\\xe0\\xa6\\x87\\xe0\\xa6\\xa5\\xe0\\xa6\\xa8 (\\xe0\\xa6\\xa6\\xe0\\xa7\\x8d\\xe0\\xa6\\xac\\xe0\\xa7\\x8d\\xe0\\xa6\\xaf\\xe0\\xa6\\xb0\\xe0\\xa7\\x8d\\xe0\\xa6\\xa5\\xe0\\xa6\\xa4\\xe0\\xa6\\xbe \\xe0\\xa6\\xa8\\xe0\\xa6\\xbf\\xe0\\xa6\\xb0\\xe0\\xa6\\xb8\\xe0\\xa6\\xa8) \\xe2\\x80\\x93 Bangla\" lang=\"bn\" hreflang=\"bn\" class=\"interlanguage-link-target\"><span>\\xe0\\xa6\\xac\\xe0\\xa6\\xbe\\xe0\\xa6\\x82\\xe0\\xa6\\xb2\\xe0\\xa6\\xbe</span></a></li><li class=\"interlanguage-link interwiki-be mw-list-item\"><a href=\"https://be.wikipedia.org/wiki/Python\" title=\"Python \\xe2\\x80\\x93 Belarusian\" lang=\"be\" hreflang=\"be\" class=\"interlanguage-link-target\"><span>\\xd0\\x91\\xd0\\xb5\\xd0\\xbb\\xd0\\xb0\\xd1\\x80\\xd1\\x83\\xd1\\x81\\xd0\\xba\\xd0\\xb0\\xd1\\x8f</span></a></li><li class=\"interlanguage-link interwiki-bg mw-list-item\"><a href=\"https://bg.wikipedia.org/wiki/%D0%9F%D0%B8%D1%82%D0%BE%D0%BD_(%D0%BF%D0%BE%D1%8F%D1%81%D0%BD%D0%B5%D0%BD%D0%B8%D0%B5)\" title=\"\\xd0\\x9f\\xd0\\xb8\\xd1\\x82\\xd0\\xbe\\xd0\\xbd (\\xd0\\xbf\\xd0\\xbe\\xd1\\x8f\\xd1\\x81\\xd0\\xbd\\xd0\\xb5\\xd0\\xbd\\xd0\\xb8\\xd0\\xb5) \\xe2\\x80\\x93 Bulgarian\" lang=\"bg\" hreflang=\"bg\" class=\"interlanguage-link-target\"><span>\\xd0\\x91\\xd1\\x8a\\xd0\\xbb\\xd0\\xb3\\xd0\\xb0\\xd1\\x80\\xd1\\x81\\xd0\\xba\\xd0\\xb8</span></a></li><li class=\"interlanguage-link interwiki-cs mw-list-item\"><a href=\"https://cs.wikipedia.org/wiki/Python_(rozcestn%C3%ADk)\" title=\"Python (rozcestn\\xc3\\xadk) \\xe2\\x80\\x93 Czech\" lang=\"cs\" hreflang=\"cs\" class=\"interlanguage-link-target\"><span>\\xc4\\x8ce\\xc5\\xa1tina</span></a></li><li class=\"interlanguage-link interwiki-da mw-list-item\"><a href=\"https://da.wikipedia.org/wiki/Python\" title=\"Python \\xe2\\x80\\x93 Danish\" lang=\"da\" hreflang=\"da\" class=\"interlanguage-link-target\"><span>Dansk</span></a></li><li class=\"interlanguage-link interwiki-de mw-list-item\"><a href=\"https://de.wikipedia.org/wiki/Python\" title=\"Python \\xe2\\x80\\x93 German\" lang=\"de\" hreflang=\"de\" class=\"interlanguage-link-target\"><span>Deutsch</span></a></li><li class=\"interlanguage-link interwiki-eo mw-list-item\"><a href=\"https://eo.wikipedia.org/wiki/Pitono_(apartigilo)\" title=\"Pitono (apartigilo) \\xe2\\x80\\x93 Esperanto\" lang=\"eo\" hreflang=\"eo\" class=\"interlanguage-link-target\"><span>Esperanto</span></a></li><li class=\"interlanguage-link interwiki-eu mw-list-item\"><a href=\"https://eu.wikipedia.org/wiki/Python_(argipena)\" title=\"Python (argipena) \\xe2\\x80\\x93 Basque\" lang=\"eu\" hreflang=\"eu\" class=\"interlanguage-link-target\"><span>Euskara</span></a></li><li class=\"interlanguage-link interwiki-fa mw-list-item\"><a href=\"https://fa.wikipedia.org/wiki/%D9%BE%D8%A7%DB%8C%D8%AA%D9%88%D9%86\" title=\"\\xd9\\xbe\\xd8\\xa7\\xdb\\x8c\\xd8\\xaa\\xd9\\x88\\xd9\\x86 \\xe2\\x80\\x93 Persian\" lang=\"fa\" hreflang=\"fa\" class=\"interlanguage-link-target\"><span>\\xd9\\x81\\xd8\\xa7\\xd8\\xb1\\xd8\\xb3\\xdb\\x8c</span></a></li><li class=\"interlanguage-link interwiki-fr mw-list-item\"><a href=\"https://fr.wikipedia.org/wiki/Python\" title=\"Python \\xe2\\x80\\x93 French\" lang=\"fr\" hreflang=\"fr\" class=\"interlanguage-link-target\"><span>Fran\\xc3\\xa7ais</span></a></li><li class=\"interlanguage-link interwiki-ko mw-list-item\"><a href=\"https://ko.wikipedia.org/wiki/%ED%8C%8C%EC%9D%B4%EC%84%A0\" title=\"\\xed\\x8c\\x8c\\xec\\x9d\\xb4\\xec\\x84\\xa0 \\xe2\\x80\\x93 Korean\" lang=\"ko\" hreflang=\"ko\" class=\"interlanguage-link-target\"><span>\\xed\\x95\\x9c\\xea\\xb5\\xad\\xec\\x96\\xb4</span></a></li><li class=\"interlanguage-link interwiki-hr mw-list-item\"><a href=\"https://hr.wikipedia.org/wiki/Python_(razdvojba)\" title=\"Python (razdvojba) \\xe2\\x80\\x93 Croatian\" lang=\"hr\" hreflang=\"hr\" class=\"interlanguage-link-target\"><span>Hrvatski</span></a></li><li class=\"interlanguage-link interwiki-io mw-list-item\"><a href=\"https://io.wikipedia.org/wiki/Pitono\" title=\"Pitono \\xe2\\x80\\x93 Ido\" lang=\"io\" hreflang=\"io\" class=\"interlanguage-link-target\"><span>Ido</span></a></li><li class=\"interlanguage-link interwiki-id mw-list-item\"><a href=\"https://id.wikipedia.org/wiki/Python\" title=\"Python \\xe2\\x80\\x93 Indonesian\" lang=\"id\" hreflang=\"id\" class=\"interlanguage-link-target\"><span>Bahasa Indonesia</span></a></li><li class=\"interlanguage-link interwiki-ia mw-list-item\"><a href=\"https://ia.wikipedia.org/wiki/Python_(disambiguation)\" title=\"Python (disambiguation) \\xe2\\x80\\x93 Interlingua\" lang=\"ia\" hreflang=\"ia\" class=\"interlanguage-link-target\"><span>Interlingua</span></a></li><li class=\"interlanguage-link interwiki-is mw-list-item\"><a href=\"https://is.wikipedia.org/wiki/Python_(a%C3%B0greining)\" title=\"Python (a\\xc3\\xb0greining) \\xe2\\x80\\x93 Icelandic\" lang=\"is\" hreflang=\"is\" class=\"interlanguage-link-target\"><span>\\xc3\\x8dslenska</span></a></li><li class=\"interlanguage-link interwiki-it mw-list-item\"><a href=\"https://it.wikipedia.org/wiki/Python_(disambigua)\" title=\"Python (disambigua) \\xe2\\x80\\x93 Italian\" lang=\"it\" hreflang=\"it\" class=\"interlanguage-link-target\"><span>Italiano</span></a></li><li class=\"interlanguage-link interwiki-he mw-list-item\"><a href=\"https://he.wikipedia.org/wiki/%D7%A4%D7%99%D7%AA%D7%95%D7%9F\" title=\"\\xd7\\xa4\\xd7\\x99\\xd7\\xaa\\xd7\\x95\\xd7\\x9f \\xe2\\x80\\x93 Hebrew\" lang=\"he\" hreflang=\"he\" class=\"interlanguage-link-target\"><span>\\xd7\\xa2\\xd7\\x91\\xd7\\xa8\\xd7\\x99\\xd7\\xaa</span></a></li><li class=\"interlanguage-link interwiki-ka mw-list-item\"><a href=\"https://ka.wikipedia.org/wiki/%E1%83%9E%E1%83%98%E1%83%97%E1%83%9D%E1%83%9C%E1%83%98_(%E1%83%9B%E1%83%A0%E1%83%90%E1%83%95%E1%83%90%E1%83%9A%E1%83%9B%E1%83%9C%E1%83%98%E1%83%A8%E1%83%95%E1%83%9C%E1%83%94%E1%83%9A%E1%83%9D%E1%83%95%E1%83%90%E1%83%9C%E1%83%98)\" title=\"\\xe1\\x83\\x9e\\xe1\\x83\\x98\\xe1\\x83\\x97\\xe1\\x83\\x9d\\xe1\\x83\\x9c\\xe1\\x83\\x98 (\\xe1\\x83\\x9b\\xe1\\x83\\xa0\\xe1\\x83\\x90\\xe1\\x83\\x95\\xe1\\x83\\x90\\xe1\\x83\\x9a\\xe1\\x83\\x9b\\xe1\\x83\\x9c\\xe1\\x83\\x98\\xe1\\x83\\xa8\\xe1\\x83\\x95\\xe1\\x83\\x9c\\xe1\\x83\\x94\\xe1\\x83\\x9a\\xe1\\x83\\x9d\\xe1\\x83\\x95\\xe1\\x83\\x90\\xe1\\x83\\x9c\\xe1\\x83\\x98) \\xe2\\x80\\x93 Georgian\" lang=\"ka\" hreflang=\"ka\" class=\"interlanguage-link-target\"><span>\\xe1\\x83\\xa5\\xe1\\x83\\x90\\xe1\\x83\\xa0\\xe1\\x83\\x97\\xe1\\x83\\xa3\\xe1\\x83\\x9a\\xe1\\x83\\x98</span></a></li><li class=\"interlanguage-link interwiki-kg mw-list-item\"><a href=\"https://kg.wikipedia.org/wiki/Mboma_(nyoka)\" title=\"Mboma (nyoka) \\xe2\\x80\\x93 Kongo\" lang=\"kg\" hreflang=\"kg\" class=\"interlanguage-link-target\"><span>Kongo</span></a></li><li class=\"interlanguage-link interwiki-la mw-list-item\"><a href=\"https://la.wikipedia.org/wiki/Python_(discretiva)\" title=\"Python (discretiva) \\xe2\\x80\\x93 Latin\" lang=\"la\" hreflang=\"la\" class=\"interlanguage-link-target\"><span>Latina</span></a></li><li class=\"interlanguage-link interwiki-lb mw-list-item\"><a href=\"https://lb.wikipedia.org/wiki/Python\" title=\"Python \\xe2\\x80\\x93 Luxembourgish\" lang=\"lb\" hreflang=\"lb\" class=\"interlanguage-link-target\"><span>L\\xc3\\xabtzebuergesch</span></a></li><li class=\"interlanguage-link interwiki-hu mw-list-item\"><a href=\"https://hu.wikipedia.org/wiki/Python_(egy%C3%A9rtelm%C5%B1s%C3%ADt%C5%91_lap)\" title=\"Python (egy\\xc3\\xa9rtelm\\xc5\\xb1s\\xc3\\xadt\\xc5\\x91 lap) \\xe2\\x80\\x93 Hungarian\" lang=\"hu\" hreflang=\"hu\" class=\"interlanguage-link-target\"><span>Magyar</span></a></li><li class=\"interlanguage-link interwiki-mr mw-list-item\"><a href=\"https://mr.wikipedia.org/wiki/%E0%A4%AA%E0%A4%BE%E0%A4%AF%E0%A4%A5%E0%A5%89%E0%A4%A8_(%E0%A4%86%E0%A4%9C%E0%A5%8D%E0%A4%9E%E0%A4%BE%E0%A4%B5%E0%A4%B2%E0%A5%80_%E0%A4%AD%E0%A4%BE%E0%A4%B7%E0%A4%BE)\" title=\"\\xe0\\xa4\\xaa\\xe0\\xa4\\xbe\\xe0\\xa4\\xaf\\xe0\\xa4\\xa5\\xe0\\xa5\\x89\\xe0\\xa4\\xa8 (\\xe0\\xa4\\x86\\xe0\\xa4\\x9c\\xe0\\xa5\\x8d\\xe0\\xa4\\x9e\\xe0\\xa4\\xbe\\xe0\\xa4\\xb5\\xe0\\xa4\\xb2\\xe0\\xa5\\x80 \\xe0\\xa4\\xad\\xe0\\xa4\\xbe\\xe0\\xa4\\xb7\\xe0\\xa4\\xbe) \\xe2\\x80\\x93 Marathi\" lang=\"mr\" hreflang=\"mr\" class=\"interlanguage-link-target\"><span>\\xe0\\xa4\\xae\\xe0\\xa4\\xb0\\xe0\\xa4\\xbe\\xe0\\xa4\\xa0\\xe0\\xa5\\x80</span></a></li><li class=\"interlanguage-link interwiki-nl mw-list-item\"><a href=\"https://nl.wikipedia.org/wiki/Python\" title=\"Python \\xe2\\x80\\x93 Dutch\" lang=\"nl\" hreflang=\"nl\" class=\"interlanguage-link-target\"><span>Nederlands</span></a></li><li class=\"interlanguage-link interwiki-ja mw-list-item\"><a href=\"https://ja.wikipedia.org/wiki/%E3%83%91%E3%82%A4%E3%82%BD%E3%83%B3\" title=\"\\xe3\\x83\\x91\\xe3\\x82\\xa4\\xe3\\x82\\xbd\\xe3\\x83\\xb3 \\xe2\\x80\\x93 Japanese\" lang=\"ja\" hreflang=\"ja\" class=\"interlanguage-link-target\"><span>\\xe6\\x97\\xa5\\xe6\\x9c\\xac\\xe8\\xaa\\x9e</span></a></li><li class=\"interlanguage-link interwiki-no mw-list-item\"><a href=\"https://no.wikipedia.org/wiki/Pyton\" title=\"Pyton \\xe2\\x80\\x93 Norwegian Bokm\\xc3\\xa5l\" lang=\"nb\" hreflang=\"nb\" class=\"interlanguage-link-target\"><span>Norsk bokm\\xc3\\xa5l</span></a></li><li class=\"interlanguage-link interwiki-pl mw-list-item\"><a href=\"https://pl.wikipedia.org/wiki/Pyton\" title=\"Pyton \\xe2\\x80\\x93 Polish\" lang=\"pl\" hreflang=\"pl\" class=\"interlanguage-link-target\"><span>Polski</span></a></li><li class=\"interlanguage-link interwiki-pt mw-list-item\"><a href=\"https://pt.wikipedia.org/wiki/Python_(desambigua%C3%A7%C3%A3o)\" title=\"Python (desambigua\\xc3\\xa7\\xc3\\xa3o) \\xe2\\x80\\x93 Portuguese\" lang=\"pt\" hreflang=\"pt\" class=\"interlanguage-link-target\"><span>Portugu\\xc3\\xaas</span></a></li><li class=\"interlanguage-link interwiki-ru mw-list-item\"><a href=\"https://ru.wikipedia.org/wiki/Python_(%D0%B7%D0%BD%D0%B0%D1%87%D0%B5%D0%BD%D0%B8%D1%8F)\" title=\"Python (\\xd0\\xb7\\xd0\\xbd\\xd0\\xb0\\xd1\\x87\\xd0\\xb5\\xd0\\xbd\\xd0\\xb8\\xd1\\x8f) \\xe2\\x80\\x93 Russian\" lang=\"ru\" hreflang=\"ru\" class=\"interlanguage-link-target\"><span>\\xd0\\xa0\\xd1\\x83\\xd1\\x81\\xd1\\x81\\xd0\\xba\\xd0\\xb8\\xd0\\xb9</span></a></li><li class=\"interlanguage-link interwiki-sk mw-list-item\"><a href=\"https://sk.wikipedia.org/wiki/Python\" title=\"Python \\xe2\\x80\\x93 Slovak\" lang=\"sk\" hreflang=\"sk\" class=\"interlanguage-link-target\"><span>Sloven\\xc4\\x8dina</span></a></li><li class=\"interlanguage-link interwiki-sr mw-list-item\"><a href=\"https://sr.wikipedia.org/wiki/%D0%9F%D0%B8%D1%82%D0%BE%D0%BD_(%D0%B2%D0%B8%D1%88%D0%B5%D0%B7%D0%BD%D0%B0%D1%87%D0%BD%D0%B0_%D0%BE%D0%B4%D1%80%D0%B5%D0%B4%D0%BD%D0%B8%D1%86%D0%B0)\" title=\"\\xd0\\x9f\\xd0\\xb8\\xd1\\x82\\xd0\\xbe\\xd0\\xbd (\\xd0\\xb2\\xd0\\xb8\\xd1\\x88\\xd0\\xb5\\xd0\\xb7\\xd0\\xbd\\xd0\\xb0\\xd1\\x87\\xd0\\xbd\\xd0\\xb0 \\xd0\\xbe\\xd0\\xb4\\xd1\\x80\\xd0\\xb5\\xd0\\xb4\\xd0\\xbd\\xd0\\xb8\\xd1\\x86\\xd0\\xb0) \\xe2\\x80\\x93 Serbian\" lang=\"sr\" hreflang=\"sr\" class=\"interlanguage-link-target\"><span>\\xd0\\xa1\\xd1\\x80\\xd0\\xbf\\xd1\\x81\\xd0\\xba\\xd0\\xb8 / srpski</span></a></li><li class=\"interlanguage-link interwiki-sh mw-list-item\"><a href=\"https://sh.wikipedia.org/wiki/Python\" title=\"Python \\xe2\\x80\\x93 Serbo-Croatian\" lang=\"sh\" hreflang=\"sh\" class=\"interlanguage-link-target\"><span>Srpskohrvatski / \\xd1\\x81\\xd1\\x80\\xd0\\xbf\\xd1\\x81\\xd0\\xba\\xd0\\xbe\\xd1\\x85\\xd1\\x80\\xd0\\xb2\\xd0\\xb0\\xd1\\x82\\xd1\\x81\\xd0\\xba\\xd0\\xb8</span></a></li><li class=\"interlanguage-link interwiki-fi mw-list-item\"><a href=\"https://fi.wikipedia.org/wiki/Python\" title=\"Python \\xe2\\x80\\x93 Finnish\" lang=\"fi\" hreflang=\"fi\" class=\"interlanguage-link-target\"><span>Suomi</span></a></li><li class=\"interlanguage-link interwiki-sv mw-list-item\"><a href=\"https://sv.wikipedia.org/wiki/Pyton\" title=\"Pyton \\xe2\\x80\\x93 Swedish\" lang=\"sv\" hreflang=\"sv\" class=\"interlanguage-link-target\"><span>Svenska</span></a></li><li class=\"interlanguage-link interwiki-th mw-list-item\"><a href=\"https://th.wikipedia.org/wiki/%E0%B9%84%E0%B8%9E%E0%B8%97%E0%B8%AD%E0%B8%99\" title=\"\\xe0\\xb9\\x84\\xe0\\xb8\\x9e\\xe0\\xb8\\x97\\xe0\\xb8\\xad\\xe0\\xb8\\x99 \\xe2\\x80\\x93 Thai\" lang=\"th\" hreflang=\"th\" class=\"interlanguage-link-target\"><span>\\xe0\\xb9\\x84\\xe0\\xb8\\x97\\xe0\\xb8\\xa2</span></a></li><li class=\"interlanguage-link interwiki-tr mw-list-item\"><a href=\"https://tr.wikipedia.org/wiki/Python\" title=\"Python \\xe2\\x80\\x93 Turkish\" lang=\"tr\" hreflang=\"tr\" class=\"interlanguage-link-target\"><span>T\\xc3\\xbcrk\\xc3\\xa7e</span></a></li><li class=\"interlanguage-link interwiki-uk mw-list-item\"><a href=\"https://uk.wikipedia.org/wiki/%D0%9F%D1%96%D1%84%D0%BE%D0%BD\" title=\"\\xd0\\x9f\\xd1\\x96\\xd1\\x84\\xd0\\xbe\\xd0\\xbd \\xe2\\x80\\x93 Ukrainian\" lang=\"uk\" hreflang=\"uk\" class=\"interlanguage-link-target\"><span>\\xd0\\xa3\\xd0\\xba\\xd1\\x80\\xd0\\xb0\\xd1\\x97\\xd0\\xbd\\xd1\\x81\\xd1\\x8c\\xd0\\xba\\xd0\\xb0</span></a></li><li class=\"interlanguage-link interwiki-ur mw-list-item\"><a href=\"https://ur.wikipedia.org/wiki/%D9%BE%D8%A7%D8%A6%DB%8C%D8%AA%DA%BE%D9%88%D9%86\" title=\"\\xd9\\xbe\\xd8\\xa7\\xd8\\xa6\\xdb\\x8c\\xd8\\xaa\\xda\\xbe\\xd9\\x88\\xd9\\x86 \\xe2\\x80\\x93 Urdu\" lang=\"ur\" hreflang=\"ur\" class=\"interlanguage-link-target\"><span>\\xd8\\xa7\\xd8\\xb1\\xd8\\xaf\\xd9\\x88</span></a></li><li class=\"interlanguage-link interwiki-vi mw-list-item\"><a href=\"https://vi.wikipedia.org/wiki/Python\" title=\"Python \\xe2\\x80\\x93 Vietnamese\" lang=\"vi\" hreflang=\"vi\" class=\"interlanguage-link-target\"><span>Ti\\xe1\\xba\\xbfng Vi\\xe1\\xbb\\x87t</span></a></li><li class=\"interlanguage-link interwiki-zh mw-list-item\"><a href=\"https://zh.wikipedia.org/wiki/Python_(%E6%B6%88%E6%AD%A7%E4%B9%89)\" title=\"Python (\\xe6\\xb6\\x88\\xe6\\xad\\xa7\\xe4\\xb9\\x89) \\xe2\\x80\\x93 Chinese\" lang=\"zh\" hreflang=\"zh\" class=\"interlanguage-link-target\"><span>\\xe4\\xb8\\xad\\xe6\\x96\\x87</span></a></li></ul>\\n\\t\\t<div class=\"after-portlet after-portlet-lang\"><span class=\"wb-langlinks-edit wb-langlinks-link\"><a href=\"https://www.wikidata.org/wiki/Special:EntityPage/Q747452#sitelinks-wikipedia\" title=\"Edit interlanguage links\" class=\"wbc-editpage\">Edit links</a></span></div>\\n\\t</div>\\n</nav>\\n\\n</div>\\n\\n</div>\\n<footer id=\"footer\" class=\"mw-footer\" role=\"contentinfo\" >\\n\\t<ul id=\"footer-info\">\\n\\t<li id=\"footer-info-lastmod\"> This page was last edited on 5 December 2021, at 22:33<span class=\"anonymous-show\">&#160;(UTC)</span>.</li>\\n\\t<li id=\"footer-info-copyright\">Text is available under the <a rel=\"license\" href=\"//en.wikipedia.org/wiki/Wikipedia:Text_of_Creative_Commons_Attribution-ShareAlike_3.0_Unported_License\">Creative Commons Attribution-ShareAlike License</a><a rel=\"license\" href=\"//creativecommons.org/licenses/by-sa/3.0/\" style=\"display:none;\"></a>;\\nadditional terms may apply.  By using this site, you agree to the <a href=\"//foundation.wikimedia.org/wiki/Terms_of_Use\">Terms of Use</a> and <a href=\"//foundation.wikimedia.org/wiki/Privacy_policy\">Privacy Policy</a>. Wikipedia\\xc2\\xae is a registered trademark of the <a href=\"//www.wikimediafoundation.org/\">Wikimedia Foundation, Inc.</a>, a non-profit organization.</li>\\n</ul>\\n\\n\\t<ul id=\"footer-places\">\\n\\t<li id=\"footer-places-privacy\"><a href=\"https://foundation.wikimedia.org/wiki/Privacy_policy\" class=\"extiw\" title=\"wmf:Privacy policy\">Privacy policy</a></li>\\n\\t<li id=\"footer-places-about\"><a href=\"/wiki/Wikipedia:About\" title=\"Wikipedia:About\">About Wikipedia</a></li>\\n\\t<li id=\"footer-places-disclaimer\"><a href=\"/wiki/Wikipedia:General_disclaimer\" title=\"Wikipedia:General disclaimer\">Disclaimers</a></li>\\n\\t<li id=\"footer-places-contact\"><a href=\"//en.wikipedia.org/wiki/Wikipedia:Contact_us\">Contact Wikipedia</a></li>\\n\\t<li id=\"footer-places-mobileview\"><a href=\"//en.m.wikipedia.org/w/index.php?title=Python&amp;mobileaction=toggle_view_mobile\" class=\"noprint stopMobileRedirectToggle\">Mobile view</a></li>\\n\\t<li id=\"footer-places-developers\"><a href=\"https://www.mediawiki.org/wiki/Special:MyLanguage/How_to_contribute\">Developers</a></li>\\n\\t<li id=\"footer-places-statslink\"><a href=\"https://stats.wikimedia.org/#/en.wikipedia.org\">Statistics</a></li>\\n\\t<li id=\"footer-places-cookiestatement\"><a href=\"https://foundation.wikimedia.org/wiki/Cookie_statement\">Cookie statement</a></li>\\n</ul>\\n\\n\\t<ul id=\"footer-icons\" class=\"noprint\">\\n\\t<li id=\"footer-copyrightico\"><a href=\"https://wikimediafoundation.org/\"><img src=\"/static/images/footer/wikimedia-button.png\" srcset=\"/static/images/footer/wikimedia-button-1.5x.png 1.5x, /static/images/footer/wikimedia-button-2x.png 2x\" width=\"88\" height=\"31\" alt=\"Wikimedia Foundation\" loading=\"lazy\" /></a></li>\\n\\t<li id=\"footer-poweredbyico\"><a href=\"https://www.mediawiki.org/\"><img src=\"/static/images/footer/poweredby_mediawiki_88x31.png\" alt=\"Powered by MediaWiki\" srcset=\"/static/images/footer/poweredby_mediawiki_132x47.png 1.5x, /static/images/footer/poweredby_mediawiki_176x62.png 2x\" width=\"88\" height=\"31\" loading=\"lazy\"/></a></li>\\n</ul>\\n\\n</footer>\\n\\n<script>(RLQ=window.RLQ||[]).push(function(){mw.config.set({\"wgPageParseReport\":{\"limitreport\":{\"cputime\":\"0.188\",\"walltime\":\"0.298\",\"ppvisitednodes\":{\"value\":1310,\"limit\":1000000},\"postexpandincludesize\":{\"value\":6486,\"limit\":2097152},\"templateargumentsize\":{\"value\":1310,\"limit\":2097152},\"expansiondepth\":{\"value\":13,\"limit\":40},\"expensivefunctioncount\":{\"value\":1,\"limit\":500},\"unstrip-depth\":{\"value\":0,\"limit\":20},\"unstrip-size\":{\"value\":946,\"limit\":5000000},\"entityaccesscount\":{\"value\":0,\"limit\":400},\"timingprofile\":[\"100.00%  258.939      1 -total\",\" 62.18%  161.009      1 Template:Disambiguation\",\" 30.99%   80.238      1 Template:Wiktionary\",\" 29.41%   76.141      1 Template:Sister_project\",\" 27.92%   72.288      1 Template:Side_box\",\" 27.41%   70.975      1 Template:Dmbox\",\" 22.09%   57.195      1 Template:Disambiguation_page_short_description\",\" 19.57%   50.662      1 Template:Short_description\",\" 17.56%   45.466      4 Template:Main_other\",\"  9.66%   25.004      1 Template:Category_handler\"]},\"scribunto\":{\"limitreport-timeusage\":{\"value\":\"0.045\",\"limit\":\"10.000\"},\"limitreport-memusage\":{\"value\":1357702,\"limit\":52428800}},\"cachereport\":{\"origin\":\"mw1326\",\"timestamp\":\"20211210185104\",\"ttl\":1814400,\"transientcontent\":false}}});});</script>\\n<script type=\"application/ld+json\">{\"@context\":\"https:\\\\/\\\\/schema.org\",\"@type\":\"Article\",\"name\":\"Python\",\"url\":\"https:\\\\/\\\\/en.wikipedia.org\\\\/wiki\\\\/Python\",\"sameAs\":\"http:\\\\/\\\\/www.wikidata.org\\\\/entity\\\\/Q747452\",\"mainEntity\":\"http:\\\\/\\\\/www.wikidata.org\\\\/entity\\\\/Q747452\",\"author\":{\"@type\":\"Organization\",\"name\":\"Contributors to Wikimedia projects\"},\"publisher\":{\"@type\":\"Organization\",\"name\":\"Wikimedia Foundation, Inc.\",\"logo\":{\"@type\":\"ImageObject\",\"url\":\"https:\\\\/\\\\/www.wikimedia.org\\\\/static\\\\/images\\\\/wmf-hor-googpub.png\"}},\"datePublished\":\"2004-05-11T17:28:52Z\",\"dateModified\":\"2021-12-05T22:33:34Z\",\"headline\":\"Wikimedia disambiguation page\"}</script>\\n<script>(RLQ=window.RLQ||[]).push(function(){mw.config.set({\"wgBackendResponseTime\":125,\"wgHostname\":\"mw1456\"});});</script>\\n</body>\\n</html>'"
      ]
     },
     "execution_count": 56,
     "metadata": {},
     "output_type": "execute_result"
    }
   ],
   "source": [
    "# This is the url you will scrape in this exercise\n",
    "url ='https://en.wikipedia.org/wiki/Python' \n",
    "response = requests.get(url)\n",
    "html_get = response.content\n",
    "#def html_get(url):\n",
    "#    response = requests.get(url)\n",
    "#    return response.content\n",
    "\n",
    "html_get"
   ]
  },
  {
   "cell_type": "code",
   "execution_count": 57,
   "metadata": {},
   "outputs": [],
   "source": [
    "# your code here\n",
    "#FUNCION PARA PARSEAR Y OBTENER HTML\n",
    "def html_parsing(html,parser):\n",
    "    return bs4.BeautifulSoup(html,parser)\n",
    "soup = html_parsing(html_get, \"html.parser\")\n"
   ]
  },
  {
   "cell_type": "code",
   "execution_count": 74,
   "metadata": {},
   "outputs": [
    {
     "data": {
      "text/plain": [
       "<a class=\"extiw\" href=\"https://en.wiktionary.org/wiki/Python\" title=\"wiktionary:Python\">Python</a>"
      ]
     },
     "execution_count": 74,
     "metadata": {},
     "output_type": "execute_result"
    }
   ],
   "source": [
    "#findlinks = soup.find_all(\"a\",{\"href\":re.compile('/wiki/Python')})\n",
    "findlinks =soup.find_all('a',{'href':re.compile('/wiki/Python')})\n",
    "findlinks[0]"
   ]
  },
  {
   "cell_type": "code",
   "execution_count": null,
   "metadata": {},
   "outputs": [],
   "source": []
  },
  {
   "cell_type": "code",
   "execution_count": 75,
   "metadata": {},
   "outputs": [
    {
     "data": {
      "text/plain": [
       "<a class=\"interlanguage-link-target\" href=\"https://af.wikipedia.org/wiki/Python\" hreflang=\"af\" lang=\"af\" title=\"Python – Afrikaans\"><span>Afrikaans</span></a>"
      ]
     },
     "execution_count": 75,
     "metadata": {},
     "output_type": "execute_result"
    }
   ],
   "source": [
    "## Opción 2:\n",
    "findlinks2 =soup.find_all('a',{\"class\": \"interlanguage-link-target\"})\n",
    "findlinks2 [0]\n",
    "\n"
   ]
  },
  {
   "cell_type": "code",
   "execution_count": 77,
   "metadata": {},
   "outputs": [
    {
     "data": {
      "text/plain": [
       "['https://en.wiktionary.org/wiki/Python',\n",
       " '/wiki/Pythonidae',\n",
       " '/wiki/Python_(genus)',\n",
       " '/wiki/Python_(programming_language)',\n",
       " '/wiki/Python_of_Aenus',\n",
       " '/wiki/Python_(painter)',\n",
       " '/wiki/Python_of_Byzantium',\n",
       " '/wiki/Python_of_Catana',\n",
       " '/wiki/Python_Anghelo',\n",
       " '/wiki/Python_(Efteling)',\n",
       " '/wiki/Python_(Busch_Gardens_Tampa_Bay)',\n",
       " '/wiki/Python_(Coney_Island,_Cincinnati,_Ohio)',\n",
       " '/wiki/Python_(automobile_maker)',\n",
       " '/wiki/Python_(Ford_prototype)',\n",
       " '/wiki/Python_(missile)',\n",
       " '/wiki/Python_(nuclear_primary)',\n",
       " '/wiki/Python_(film)',\n",
       " '/wiki/Python_(mythology)',\n",
       " '/wiki/Python_(Monty)_Pictures',\n",
       " '/wiki/Python',\n",
       " '/wiki/Python',\n",
       " 'https://af.wikipedia.org/wiki/Python',\n",
       " 'https://als.wikipedia.org/wiki/Python',\n",
       " 'https://az.wikipedia.org/wiki/Python',\n",
       " 'https://be.wikipedia.org/wiki/Python',\n",
       " 'https://cs.wikipedia.org/wiki/Python_(rozcestn%C3%ADk)',\n",
       " 'https://da.wikipedia.org/wiki/Python',\n",
       " 'https://de.wikipedia.org/wiki/Python',\n",
       " 'https://eu.wikipedia.org/wiki/Python_(argipena)',\n",
       " 'https://fr.wikipedia.org/wiki/Python',\n",
       " 'https://hr.wikipedia.org/wiki/Python_(razdvojba)',\n",
       " 'https://id.wikipedia.org/wiki/Python',\n",
       " 'https://ia.wikipedia.org/wiki/Python_(disambiguation)',\n",
       " 'https://is.wikipedia.org/wiki/Python_(a%C3%B0greining)',\n",
       " 'https://it.wikipedia.org/wiki/Python_(disambigua)',\n",
       " 'https://la.wikipedia.org/wiki/Python_(discretiva)',\n",
       " 'https://lb.wikipedia.org/wiki/Python',\n",
       " 'https://hu.wikipedia.org/wiki/Python_(egy%C3%A9rtelm%C5%B1s%C3%ADt%C5%91_lap)',\n",
       " 'https://nl.wikipedia.org/wiki/Python',\n",
       " 'https://pt.wikipedia.org/wiki/Python_(desambigua%C3%A7%C3%A3o)',\n",
       " 'https://ru.wikipedia.org/wiki/Python_(%D0%B7%D0%BD%D0%B0%D1%87%D0%B5%D0%BD%D0%B8%D1%8F)',\n",
       " 'https://sk.wikipedia.org/wiki/Python',\n",
       " 'https://sh.wikipedia.org/wiki/Python',\n",
       " 'https://fi.wikipedia.org/wiki/Python',\n",
       " 'https://tr.wikipedia.org/wiki/Python',\n",
       " 'https://vi.wikipedia.org/wiki/Python',\n",
       " 'https://zh.wikipedia.org/wiki/Python_(%E6%B6%88%E6%AD%A7%E4%B9%89)']"
      ]
     },
     "execution_count": 77,
     "metadata": {},
     "output_type": "execute_result"
    }
   ],
   "source": [
    "#project_href = [i['href'] for i in soup.find_all('a', href=True)]\n",
    "#project_href\n",
    "#for i in soup.find_all('div', attrs={'class' : 'project-card-content'}):\n",
    "#    print(i.a['href'])\n",
    "links=[]\n",
    "for tag in findlinks:\n",
    "    links.append(tag['href'])\n",
    "links"
   ]
  },
  {
   "cell_type": "code",
   "execution_count": 80,
   "metadata": {},
   "outputs": [
    {
     "data": {
      "text/plain": [
       "['https://af.wikipedia.org/wiki/Python',\n",
       " 'https://als.wikipedia.org/wiki/Python',\n",
       " 'https://ar.wikipedia.org/wiki/%D8%A8%D8%A7%D9%8A%D8%AB%D9%88%D9%86_(%D8%AA%D9%88%D8%B6%D9%8A%D8%AD)',\n",
       " 'https://az.wikipedia.org/wiki/Python',\n",
       " 'https://bn.wikipedia.org/wiki/%E0%A6%AA%E0%A6%BE%E0%A6%87%E0%A6%A5%E0%A6%A8_(%E0%A6%A6%E0%A7%8D%E0%A6%AC%E0%A7%8D%E0%A6%AF%E0%A6%B0%E0%A7%8D%E0%A6%A5%E0%A6%A4%E0%A6%BE_%E0%A6%A8%E0%A6%BF%E0%A6%B0%E0%A6%B8%E0%A6%A8)',\n",
       " 'https://be.wikipedia.org/wiki/Python',\n",
       " 'https://bg.wikipedia.org/wiki/%D0%9F%D0%B8%D1%82%D0%BE%D0%BD_(%D0%BF%D0%BE%D1%8F%D1%81%D0%BD%D0%B5%D0%BD%D0%B8%D0%B5)',\n",
       " 'https://cs.wikipedia.org/wiki/Python_(rozcestn%C3%ADk)',\n",
       " 'https://da.wikipedia.org/wiki/Python',\n",
       " 'https://de.wikipedia.org/wiki/Python',\n",
       " 'https://eo.wikipedia.org/wiki/Pitono_(apartigilo)',\n",
       " 'https://eu.wikipedia.org/wiki/Python_(argipena)',\n",
       " 'https://fa.wikipedia.org/wiki/%D9%BE%D8%A7%DB%8C%D8%AA%D9%88%D9%86',\n",
       " 'https://fr.wikipedia.org/wiki/Python',\n",
       " 'https://ko.wikipedia.org/wiki/%ED%8C%8C%EC%9D%B4%EC%84%A0',\n",
       " 'https://hr.wikipedia.org/wiki/Python_(razdvojba)',\n",
       " 'https://io.wikipedia.org/wiki/Pitono',\n",
       " 'https://id.wikipedia.org/wiki/Python',\n",
       " 'https://ia.wikipedia.org/wiki/Python_(disambiguation)',\n",
       " 'https://is.wikipedia.org/wiki/Python_(a%C3%B0greining)',\n",
       " 'https://it.wikipedia.org/wiki/Python_(disambigua)',\n",
       " 'https://he.wikipedia.org/wiki/%D7%A4%D7%99%D7%AA%D7%95%D7%9F',\n",
       " 'https://ka.wikipedia.org/wiki/%E1%83%9E%E1%83%98%E1%83%97%E1%83%9D%E1%83%9C%E1%83%98_(%E1%83%9B%E1%83%A0%E1%83%90%E1%83%95%E1%83%90%E1%83%9A%E1%83%9B%E1%83%9C%E1%83%98%E1%83%A8%E1%83%95%E1%83%9C%E1%83%94%E1%83%9A%E1%83%9D%E1%83%95%E1%83%90%E1%83%9C%E1%83%98)',\n",
       " 'https://kg.wikipedia.org/wiki/Mboma_(nyoka)',\n",
       " 'https://la.wikipedia.org/wiki/Python_(discretiva)',\n",
       " 'https://lb.wikipedia.org/wiki/Python',\n",
       " 'https://hu.wikipedia.org/wiki/Python_(egy%C3%A9rtelm%C5%B1s%C3%ADt%C5%91_lap)',\n",
       " 'https://mr.wikipedia.org/wiki/%E0%A4%AA%E0%A4%BE%E0%A4%AF%E0%A4%A5%E0%A5%89%E0%A4%A8_(%E0%A4%86%E0%A4%9C%E0%A5%8D%E0%A4%9E%E0%A4%BE%E0%A4%B5%E0%A4%B2%E0%A5%80_%E0%A4%AD%E0%A4%BE%E0%A4%B7%E0%A4%BE)',\n",
       " 'https://nl.wikipedia.org/wiki/Python',\n",
       " 'https://ja.wikipedia.org/wiki/%E3%83%91%E3%82%A4%E3%82%BD%E3%83%B3',\n",
       " 'https://no.wikipedia.org/wiki/Pyton',\n",
       " 'https://pl.wikipedia.org/wiki/Pyton',\n",
       " 'https://pt.wikipedia.org/wiki/Python_(desambigua%C3%A7%C3%A3o)',\n",
       " 'https://ru.wikipedia.org/wiki/Python_(%D0%B7%D0%BD%D0%B0%D1%87%D0%B5%D0%BD%D0%B8%D1%8F)',\n",
       " 'https://sk.wikipedia.org/wiki/Python',\n",
       " 'https://sr.wikipedia.org/wiki/%D0%9F%D0%B8%D1%82%D0%BE%D0%BD_(%D0%B2%D0%B8%D1%88%D0%B5%D0%B7%D0%BD%D0%B0%D1%87%D0%BD%D0%B0_%D0%BE%D0%B4%D1%80%D0%B5%D0%B4%D0%BD%D0%B8%D1%86%D0%B0)',\n",
       " 'https://sh.wikipedia.org/wiki/Python',\n",
       " 'https://fi.wikipedia.org/wiki/Python',\n",
       " 'https://sv.wikipedia.org/wiki/Pyton',\n",
       " 'https://th.wikipedia.org/wiki/%E0%B9%84%E0%B8%9E%E0%B8%97%E0%B8%AD%E0%B8%99',\n",
       " 'https://tr.wikipedia.org/wiki/Python',\n",
       " 'https://uk.wikipedia.org/wiki/%D0%9F%D1%96%D1%84%D0%BE%D0%BD',\n",
       " 'https://ur.wikipedia.org/wiki/%D9%BE%D8%A7%D8%A6%DB%8C%D8%AA%DA%BE%D9%88%D9%86',\n",
       " 'https://vi.wikipedia.org/wiki/Python',\n",
       " 'https://zh.wikipedia.org/wiki/Python_(%E6%B6%88%E6%AD%A7%E4%B9%89)']"
      ]
     },
     "execution_count": 80,
     "metadata": {},
     "output_type": "execute_result"
    }
   ],
   "source": [
    "#links2=[]\n",
    "#for tag in findlinks2:\n",
    "#    links2.append(tag['href'])\n",
    "#links2"
   ]
  },
  {
   "cell_type": "markdown",
   "metadata": {},
   "source": [
    "#### Find the number of titles that have changed in the United States Code since its last release point."
   ]
  },
  {
   "cell_type": "code",
   "execution_count": null,
   "metadata": {},
   "outputs": [],
   "source": [
    "# This is the url you will scrape in this exercise\n",
    "url = 'http://uscode.house.gov/download/download.shtml'"
   ]
  },
  {
   "cell_type": "code",
   "execution_count": null,
   "metadata": {},
   "outputs": [],
   "source": [
    "# your code here\n",
    "response = requests.get(url)\n",
    "html_get = response.content\n",
    "soup = bs4.BeautifulSoup(htlm, \"html.parser\")"
   ]
  },
  {
   "cell_type": "markdown",
   "metadata": {},
   "source": [
    "#### Find a Python list with the top ten FBI's Most Wanted names."
   ]
  },
  {
   "cell_type": "code",
   "execution_count": null,
   "metadata": {},
   "outputs": [],
   "source": [
    "# This is the url you will scrape in this exercise\n",
    "url = 'https://www.fbi.gov/wanted/topten'\n",
    "response = requests.get(url)\n",
    "html_get = response.content\n",
    "soup = bs4.BeautifulSoup(htlm, \"html.parser\")"
   ]
  },
  {
   "cell_type": "code",
   "execution_count": null,
   "metadata": {},
   "outputs": [],
   "source": [
    "# your code here"
   ]
  },
  {
   "cell_type": "markdown",
   "metadata": {},
   "source": [
    "####  Display the 20 latest earthquakes info (date, time, latitude, longitude and region name) by the EMSC as a pandas dataframe."
   ]
  },
  {
   "cell_type": "code",
   "execution_count": null,
   "metadata": {},
   "outputs": [],
   "source": [
    "# This is the url you will scrape in this exercise\n",
    "url = 'https://www.emsc-csem.org/Earthquake/'\n",
    "response = requests.get(url)\n",
    "html_get = response.content\n",
    "soup = bs4.BeautifulSoup(htlm, \"html.parser\")"
   ]
  },
  {
   "cell_type": "code",
   "execution_count": null,
   "metadata": {},
   "outputs": [],
   "source": [
    "# your code here"
   ]
  },
  {
   "cell_type": "markdown",
   "metadata": {},
   "source": [
    "#### Count the number of tweets by a given Twitter account.\n",
    "Ask the user for the handle (@handle) of a twitter account. You will need to include a ***try/except block*** for account names not found. \n",
    "<br>***Hint:*** the program should count the number of tweets for any provided account."
   ]
  },
  {
   "cell_type": "code",
   "execution_count": null,
   "metadata": {},
   "outputs": [],
   "source": [
    "# This is the url you will scrape in this exercise \n",
    "# You will need to add the account credentials to this url\n",
    "url = 'https://twitter.com/'\n"
   ]
  },
  {
   "cell_type": "code",
   "execution_count": null,
   "metadata": {},
   "outputs": [],
   "source": [
    "# your code here\n",
    "response = requests.get(url)\n",
    "html_get = response.content\n",
    "soup = bs4.BeautifulSoup(htlm, \"html.parser\")"
   ]
  },
  {
   "cell_type": "markdown",
   "metadata": {},
   "source": [
    "#### Number of followers of a given twitter account\n",
    "Ask the user for the handle (@handle) of a twitter account. You will need to include a ***try/except block*** for account names not found. \n",
    "<br>***Hint:*** the program should count the followers for any provided account."
   ]
  },
  {
   "cell_type": "code",
   "execution_count": null,
   "metadata": {},
   "outputs": [],
   "source": [
    "# This is the url you will scrape in this exercise \n",
    "# You will need to add the account credentials to this url\n",
    "url = 'https://twitter.com/'"
   ]
  },
  {
   "cell_type": "code",
   "execution_count": null,
   "metadata": {},
   "outputs": [],
   "source": [
    "# your code here"
   ]
  },
  {
   "cell_type": "markdown",
   "metadata": {},
   "source": [
    "#### List all language names and number of related articles in the order they appear in wikipedia.org."
   ]
  },
  {
   "cell_type": "code",
   "execution_count": null,
   "metadata": {},
   "outputs": [],
   "source": [
    "# This is the url you will scrape in this exercise\n",
    "url = 'https://www.wikipedia.org/'"
   ]
  },
  {
   "cell_type": "code",
   "execution_count": null,
   "metadata": {},
   "outputs": [],
   "source": [
    "# your code here\n",
    "response = requests.get(url)\n",
    "html = response.content\n",
    "soup = bs4.BeautifulSoup(htlm, \"html.parser\")"
   ]
  },
  {
   "cell_type": "markdown",
   "metadata": {},
   "source": [
    "#### A list with the different kind of datasets available in data.gov.uk."
   ]
  },
  {
   "cell_type": "code",
   "execution_count": null,
   "metadata": {},
   "outputs": [],
   "source": [
    "# This is the url you will scrape in this exercise\n",
    "url = 'https://data.gov.uk/'"
   ]
  },
  {
   "cell_type": "code",
   "execution_count": null,
   "metadata": {},
   "outputs": [],
   "source": [
    "# your code here\n",
    "response = requests.get(url)\n",
    "html = response.content\n",
    "soup = bs4.BeautifulSoup(htlm, \"html.parser\")"
   ]
  },
  {
   "cell_type": "markdown",
   "metadata": {},
   "source": [
    "#### Display the top 10 languages by number of native speakers stored in a pandas dataframe."
   ]
  },
  {
   "cell_type": "code",
   "execution_count": null,
   "metadata": {},
   "outputs": [],
   "source": [
    "# This is the url you will scrape in this exercise\n",
    "url = 'https://en.wikipedia.org/wiki/List_of_languages_by_number_of_native_speakers'"
   ]
  },
  {
   "cell_type": "code",
   "execution_count": null,
   "metadata": {},
   "outputs": [],
   "source": [
    "# your code here\n",
    "response = requests.get(url)\n",
    "html = response.content\n",
    "soup = bs4.BeautifulSoup(htlm, \"html.parser\")"
   ]
  },
  {
   "cell_type": "markdown",
   "metadata": {},
   "source": [
    "## Bonus\n",
    "#### Scrape a certain number of tweets of a given Twitter account."
   ]
  },
  {
   "cell_type": "code",
   "execution_count": null,
   "metadata": {},
   "outputs": [],
   "source": [
    "# This is the url you will scrape in this exercise \n",
    "# You will need to add the account credentials to this url\n",
    "url = 'https://twitter.com/'"
   ]
  },
  {
   "cell_type": "code",
   "execution_count": null,
   "metadata": {},
   "outputs": [],
   "source": [
    "# your code here"
   ]
  },
  {
   "cell_type": "markdown",
   "metadata": {},
   "source": [
    "#### Display IMDB's top 250 data (movie name, initial release, director name and stars) as a pandas dataframe."
   ]
  },
  {
   "cell_type": "code",
   "execution_count": null,
   "metadata": {},
   "outputs": [],
   "source": [
    "# This is the url you will scrape in this exercise \n",
    "url = 'https://www.imdb.com/chart/top'"
   ]
  },
  {
   "cell_type": "code",
   "execution_count": null,
   "metadata": {},
   "outputs": [],
   "source": [
    "# your code here"
   ]
  },
  {
   "cell_type": "markdown",
   "metadata": {},
   "source": [
    "#### Display the movie name, year and a brief summary of the top 10 random movies (IMDB) as a pandas dataframe."
   ]
  },
  {
   "cell_type": "code",
   "execution_count": null,
   "metadata": {},
   "outputs": [],
   "source": [
    "#This is the url you will scrape in this exercise\n",
    "url = 'http://www.imdb.com/chart/top'"
   ]
  },
  {
   "cell_type": "code",
   "execution_count": null,
   "metadata": {},
   "outputs": [],
   "source": [
    "# your code here"
   ]
  },
  {
   "cell_type": "markdown",
   "metadata": {},
   "source": [
    "#### Find the live weather report (temperature, wind speed, description and weather) of a given city."
   ]
  },
  {
   "cell_type": "code",
   "execution_count": null,
   "metadata": {},
   "outputs": [],
   "source": [
    "#https://openweathermap.org/current\n",
    "city = input('Enter the city: ')\n",
    "url = 'http://api.openweathermap.org/data/2.5/weather?'+'q='+city+'&APPID=b35975e18dc93725acb092f7272cc6b8&units=metric'"
   ]
  },
  {
   "cell_type": "code",
   "execution_count": null,
   "metadata": {},
   "outputs": [],
   "source": [
    "# your code here"
   ]
  },
  {
   "cell_type": "markdown",
   "metadata": {},
   "source": [
    "#### Find the book name, price and stock availability as a pandas dataframe."
   ]
  },
  {
   "cell_type": "code",
   "execution_count": null,
   "metadata": {},
   "outputs": [],
   "source": [
    "# This is the url you will scrape in this exercise. \n",
    "# It is a fictional bookstore created to be scraped. \n",
    "url = 'http://books.toscrape.com/'"
   ]
  },
  {
   "cell_type": "code",
   "execution_count": null,
   "metadata": {},
   "outputs": [],
   "source": [
    "# your code here"
   ]
  }
 ],
 "metadata": {
  "kernelspec": {
   "display_name": "Python [conda env:ironhack]",
   "language": "python",
   "name": "conda-env-ironhack-py"
  },
  "language_info": {
   "codemirror_mode": {
    "name": "ipython",
    "version": 3
   },
   "file_extension": ".py",
   "mimetype": "text/x-python",
   "name": "python",
   "nbconvert_exporter": "python",
   "pygments_lexer": "ipython3",
   "version": "3.7.11"
  }
 },
 "nbformat": 4,
 "nbformat_minor": 4
}
