{
 "cells": [
  {
   "cell_type": "code",
   "execution_count": 4,
   "metadata": {},
   "outputs": [],
   "source": [
    "name_to_number={\"negative five\":-5,\n",
    "                \"negative four\":-4,\n",
    "                \"negative three\":-3,\n",
    "                \"negative two\":-2,\n",
    "                \"negative one\":-1,\n",
    "                \"zero\":0,\n",
    "                \"one\":1,\n",
    "                \"two\":2,\n",
    "                \"three\":3,\n",
    "                \"four\":4,\n",
    "                \"five\":5,\n",
    "                \"six\":6,\n",
    "                \"seven\":7,\n",
    "                \"eight\":8,\n",
    "                \"nine\":9,\n",
    "                \"ten\":9\n",
    "}\n",
    "def calculator():\n",
    "    print('Welcome to this calculator!')\n",
    "    print('It can add and subtract whole numbers from zero to five')\n",
    "    a = input('Please choose your first number (zero to five): ')\n",
    "    b = input('What do you want to do? plus or minus: ')\n",
    "    c = input('Please choose your second number (zero to five): ')\n",
    "    try:\n",
    "        a_num=name_to_number[a]\n",
    "        c_num=name_to_number[c]\n",
    "        if b==\"plus\":\n",
    "            total=a_num+c_num\n",
    "            total_text=(list(name_to_number.keys())[list(name_to_number.values()).index(total)])\n",
    "            print(f'{a} {b} {c} equals {total_text}')\n",
    "            return print(\"Thanks for using this calculator, goodbye :)\")\n",
    "        elif b==\"minus\":\n",
    "            total=a_num-c_num\n",
    "            total_text=(list(name_to_number.keys())[list(name_to_number.values()).index(total)])\n",
    "            print(f'{a} {b} {c} equals {total_text}')\n",
    "            return print(\"Thanks for using this calculator, goodbye :)\")\n",
    "    except:\n",
    "        print(\"I am not able to answer this question. Check your input.\")"
   ]
  },
  {
   "cell_type": "code",
   "execution_count": 3,
   "metadata": {},
   "outputs": [
    {
     "name": "stdout",
     "output_type": "stream",
     "text": [
      "Welcome to this calculator!\n",
      "It can add and subtract whole numbers from zero to five\n",
      "one minus two equals negative one\n",
      "Thanks for using this calculator, goodbye :)\n"
     ]
    }
   ],
   "source": [
    "calculator()"
   ]
  },
  {
   "cell_type": "code",
   "execution_count": null,
   "metadata": {},
   "outputs": [],
   "source": [
    "\n"
   ]
  }
 ],
 "metadata": {
  "interpreter": {
   "hash": "56a449b4b6c3a217288f974e7779502090f26a1e424eb525f35a32165e90487c"
  },
  "kernelspec": {
   "display_name": "Python 3.7.11 64-bit ('ironhack': conda)",
   "language": "python",
   "name": "python3"
  },
  "language_info": {
   "codemirror_mode": {
    "name": "ipython",
    "version": 3
   },
   "file_extension": ".py",
   "mimetype": "text/x-python",
   "name": "python",
   "nbconvert_exporter": "python",
   "pygments_lexer": "ipython3",
   "version": "3.7.11"
  },
  "orig_nbformat": 4
 },
 "nbformat": 4,
 "nbformat_minor": 2
}
