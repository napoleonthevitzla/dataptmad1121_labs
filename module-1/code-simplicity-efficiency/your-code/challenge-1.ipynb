{
 "cells": [
  {
   "cell_type": "code",
   "execution_count": 5,
   "metadata": {},
   "outputs": [
    {
     "name": "stdout",
     "output_type": "stream",
     "text": [
      "<function calculator at 0x7ffcbfec2f80>\n"
     ]
    }
   ],
   "source": [
    "name_to_number={\"negative five\":-5,\"negative four\":-4,\"negative three\":-3, \"negative two\":-2,\"negative one\":-1,\"zero\":0,\"one\":1,\"two\":2,\"three\":3,\"four\":4,\"five\":5,\"six\":6,\"seven\":7,\"eight\":8,\"nine\":9,\"ten\":9}\n",
    "def calculator():\n",
    "    print('Welcome to this calculator!')\n",
    "    print('It can add and subtract whole numbers from zero to five')\n",
    "    a = input('Please choose your first number (zero to five): ')\n",
    "    b = input('What do you want to do? plus or minus: ')\n",
    "    c = input('Please choose your second number (zero to five): ')\n",
    "    try:\n",
    "        a_num=name_to_number[a]\n",
    "        c_num=name_to_number[c]\n",
    "        if b==\"plus\":\n",
    "            total=a_num+c_num\n",
    "            total_text=(list(name_to_number.keys())[list(name_to_number.values()).index(total)])\n",
    "            print(f'{a} {b} {c} equals {total_text}')\n",
    "            return print(\"Thanks for using this calculator, goodbye :)\")\n",
    "        elif b==\"minus\":\n",
    "            total=a_num-c_num\n",
    "            total_text=(list(name_to_number.keys())[list(name_to_number.values()).index(total)])\n",
    "            print(f'{a} {b} {c} equals {total_text}')\n",
    "            return print(\"Thanks for using this calculator, goodbye :)\")\n",
    "    except:\n",
    "        print(\"I am not able to answer this question. Check your input.\")\n",
    "        \n",
    "print (calculator)"
   ]
  }
 ],
 "metadata": {
  "interpreter": {
   "hash": "56a449b4b6c3a217288f974e7779502090f26a1e424eb525f35a32165e90487c"
  },
  "kernelspec": {
   "display_name": "Python 3.7.11 ('ironhack')",
   "language": "python",
   "name": "python3"
  },
  "language_info": {
   "codemirror_mode": {
    "name": "ipython",
    "version": 3
   },
   "file_extension": ".py",
   "mimetype": "text/x-python",
   "name": "python",
   "nbconvert_exporter": "python",
   "pygments_lexer": "ipython3",
   "version": "3.7.11"
  },
  "orig_nbformat": 4
 },
 "nbformat": 4,
 "nbformat_minor": 2
}
