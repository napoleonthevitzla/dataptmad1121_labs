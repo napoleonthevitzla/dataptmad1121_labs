{
 "cells": [
  {
   "cell_type": "code",
   "execution_count": 8,
   "metadata": {},
   "outputs": [
    {
     "data": {
      "text/plain": [
       "['627c', 'nmfg', 'm9h7']"
      ]
     },
     "execution_count": 8,
     "metadata": {},
     "output_type": "execute_result"
    }
   ],
   "source": [
    "\n",
    "import random\n",
    "import string\n",
    "def BatchStringGenerator(a,b,n):\n",
    "    r=[]\n",
    "    a=int(a)\n",
    "    b=int(b)\n",
    "    n=int(n)\n",
    "    for i in range(n):\n",
    "        length=random.randint(a, b)\n",
    "        result_str = ''.join(random.choices(string.ascii_lowercase + string.digits, k=length))\n",
    "        r.append(result_str)\n",
    "    return r\n",
    "BatchStringGenerator(4,5,3)"
   ]
  },
  {
   "cell_type": "code",
   "execution_count": 9,
   "metadata": {},
   "outputs": [
    {
     "data": {
      "text/plain": [
       "['h7d7901udd52', 'cn1rt708l67q']"
      ]
     },
     "execution_count": 9,
     "metadata": {},
     "output_type": "execute_result"
    }
   ],
   "source": [
    "BatchStringGenerator(10,12,2)"
   ]
  },
  {
   "cell_type": "code",
   "execution_count": null,
   "metadata": {},
   "outputs": [],
   "source": []
  }
 ],
 "metadata": {
  "interpreter": {
   "hash": "56a449b4b6c3a217288f974e7779502090f26a1e424eb525f35a32165e90487c"
  },
  "kernelspec": {
   "display_name": "Python 3.7.11 64-bit ('ironhack': conda)",
   "language": "python",
   "name": "python3"
  },
  "language_info": {
   "codemirror_mode": {
    "name": "ipython",
    "version": 3
   },
   "file_extension": ".py",
   "mimetype": "text/x-python",
   "name": "python",
   "nbconvert_exporter": "python",
   "pygments_lexer": "ipython3",
   "version": "3.7.11"
  },
  "orig_nbformat": 4
 },
 "nbformat": 4,
 "nbformat_minor": 2
}
