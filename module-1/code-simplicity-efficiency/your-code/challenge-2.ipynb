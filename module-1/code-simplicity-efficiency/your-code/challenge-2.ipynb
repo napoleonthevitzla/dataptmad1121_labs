{
 "cells": [
  {
   "cell_type": "code",
   "execution_count": 1,
   "metadata": {},
   "outputs": [
    {
     "data": {
      "text/plain": [
       "['5geu7', 'ak8s', '2yqf']"
      ]
     },
     "execution_count": 1,
     "metadata": {},
     "output_type": "execute_result"
    }
   ],
   "source": [
    "import random\n",
    "import string\n",
    "def BatchStringGenerator(a,b,n):\n",
    "    r=[]\n",
    "    a=int(a)\n",
    "    b=int(b)\n",
    "    n=int(n)\n",
    "    for i in range(n):\n",
    "        length=random.randint(a, b)\n",
    "        result_str = ''.join(random.choices(string.ascii_lowercase + string.digits, k=length))\n",
    "        r.append(result_str)\n",
    "    return r\n",
    "BatchStringGenerator(4,5,3)\n"
   ]
  }
 ],
 "metadata": {
  "interpreter": {
   "hash": "56a449b4b6c3a217288f974e7779502090f26a1e424eb525f35a32165e90487c"
  },
  "kernelspec": {
   "display_name": "Python 3.7.11 ('ironhack')",
   "language": "python",
   "name": "python3"
  },
  "language_info": {
   "codemirror_mode": {
    "name": "ipython",
    "version": 3
   },
   "file_extension": ".py",
   "mimetype": "text/x-python",
   "name": "python",
   "nbconvert_exporter": "python",
   "pygments_lexer": "ipython3",
   "version": "3.7.11"
  },
  "orig_nbformat": 4
 },
 "nbformat": 4,
 "nbformat_minor": 2
}
