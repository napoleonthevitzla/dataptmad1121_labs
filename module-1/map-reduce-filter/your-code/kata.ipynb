{
 "cells": [
  {
   "cell_type": "code",
   "execution_count": 1,
   "id": "f25970a3-054f-4d7f-9b58-d29fdfaef419",
   "metadata": {},
   "outputs": [
    {
     "ename": "SyntaxError",
     "evalue": "invalid syntax (3982666486.py, line 4)",
     "output_type": "error",
     "traceback": [
      "\u001b[0;36m  File \u001b[0;32m\"/var/folders/30/vsgs8bp94b7b17m8zr60lgnh0000gn/T/ipykernel_9909/3982666486.py\"\u001b[0;36m, line \u001b[0;32m4\u001b[0m\n\u001b[0;31m    lista (in\u001b[0m\n\u001b[0m            ^\u001b[0m\n\u001b[0;31mSyntaxError\u001b[0m\u001b[0;31m:\u001b[0m invalid syntax\n"
     ]
    }
   ],
   "source": [
    "from itertools import combinations\n",
    "import numpy as np\n",
    "\n"
   ]
  },
  {
   "cell_type": "code",
   "execution_count": null,
   "id": "99ccc8cc-ecc9-49d8-8214-8f09d484e8d3",
   "metadata": {},
   "outputs": [],
   "source": [
    "lst = [2, 10, 20, 15]\n",
    "num_fact = 3\n",
    "num_add = 2.0\n",
    "max_val = '8'\n",
    "\n",
    "def eval_prod_sum(arr, num_fact, num_add, max_val):\n",
    "    # your code here\n",
    "    for i in lst:\n",
    "        i = list(i)\n",
    "        print (i)\n",
    "        \n",
    "    #Crear num_fact de listas que no se repitan y que se realicen todas las combinaciones posibles.\n",
    "    \n",
    "    \n",
    "    \n",
    "    # multiplicar los productos de la lista y almacenar el resultado en un diccionario de products\n",
    "    \n",
    "    # \n",
    "    \n",
    "    \n",
    "    \n",
    "    return [{\"Below than max_val: \": count1}, {\"Equals to max_val: \": count2}, {\"Larger than max_val: \": count3}]"
   ]
  }
 ],
 "metadata": {
  "kernelspec": {
   "display_name": "Python [conda env:jupyter_env] *",
   "language": "python",
   "name": "conda-env-jupyter_env-py"
  },
  "language_info": {
   "codemirror_mode": {
    "name": "ipython",
    "version": 3
   },
   "file_extension": ".py",
   "mimetype": "text/x-python",
   "name": "python",
   "nbconvert_exporter": "python",
   "pygments_lexer": "ipython3",
   "version": "3.7.11"
  }
 },
 "nbformat": 4,
 "nbformat_minor": 5
}
