{
 "cells": [
  {
   "cell_type": "markdown",
   "id": "15fb3f19",
   "metadata": {},
   "source": [
    "# Static Plotting Libraries for Python"
   ]
  },
  {
   "cell_type": "code",
   "execution_count": null,
   "id": "5d172bb6",
   "metadata": {},
   "outputs": [],
   "source": [
    "# imports\n",
    "import numpy as np\n",
    "import pandas as pd\n",
    "\n",
    "# matplotlib\n",
    "import matplotlib.pyplot as plt   # conda install matplotlib\n",
    "\n",
    "# seaborn\n",
    "import seaborn as sns   # conda install seaborn"
   ]
  },
  {
   "cell_type": "markdown",
   "id": "6aa9c7c2",
   "metadata": {},
   "source": [
    "### matplotlib\n",
    "\n",
    "Matplotlib is a comprehensive library for creating static, animated, and interactive visualizations in Python.\n",
    "\n",
    "https://matplotlib.org/stable/api/index"
   ]
  },
  {
   "cell_type": "code",
   "execution_count": null,
   "id": "db1b22ff",
   "metadata": {},
   "outputs": [],
   "source": [
    "# figure: https://matplotlib.org/stable/api/_as_gen/matplotlib.pyplot.figure.html#matplotlib.pyplot.figure\n",
    "fig = plt.figure()\n",
    "print(type(fig))"
   ]
  },
  {
   "cell_type": "code",
   "execution_count": null,
   "id": "b047aaef",
   "metadata": {},
   "outputs": [],
   "source": [
    "# axes: https://matplotlib.org/stable/api/_as_gen/matplotlib.pyplot.axes.html?highlight=pyplot%20axes#matplotlib.pyplot.axes\n",
    "ax = plt.axes()\n",
    "print(type(ax))"
   ]
  },
  {
   "cell_type": "code",
   "execution_count": null,
   "id": "5b0a73b5",
   "metadata": {},
   "outputs": [],
   "source": [
    "# axes attributes\n",
    "ax.get_children()"
   ]
  },
  {
   "cell_type": "markdown",
   "id": "c07ba6a3",
   "metadata": {},
   "source": [
    "---"
   ]
  },
  {
   "cell_type": "code",
   "execution_count": null,
   "id": "d00e91c3",
   "metadata": {},
   "outputs": [],
   "source": [
    "# let's create some data\n",
    "def random_data_generator(array, low, high):\n",
    "    return np.random.randint(low, high, len(array))\n",
    "\n",
    "# abscissa axes \n",
    "x_cat = ['Antivaccinists', 'Flat Earthers', '9/11 Deniers', 'Moon Landing Deniers', 'CR7 Fans']\n",
    "x_time = ['2021-11-01', '2021-12-01', '2022-01-01', '2022-02-01', '2022-03-01', '2022-04-01', '2022-05-01']\n",
    "x = np.random.randint(0, 100, 10)\n",
    "\n",
    "# ordinate axes\n",
    "y_cat = random_data_generator(x_cat, 10000, 100000)\n",
    "y_cat_mean = y_cat.mean()\n",
    "y_time = random_data_generator(x_time, 0, 100)\n",
    "y = random_data_generator(x, 0, 1000)"
   ]
  },
  {
   "cell_type": "markdown",
   "id": "bb3df8f5",
   "metadata": {},
   "source": [
    "---"
   ]
  },
  {
   "cell_type": "code",
   "execution_count": null,
   "id": "1a97ebc9",
   "metadata": {},
   "outputs": [],
   "source": [
    "# subplots method (1 plot): https://matplotlib.org/stable/api/_as_gen/matplotlib.pyplot.subplots.html\n",
    "fig, ax = plt.subplots(ncols=1, nrows=1, figsize=(13,8))\n",
    "#ax.bar(x_cat, y_cat)                    # https://matplotlib.org/stable/api/_as_gen/matplotlib.pyplot.html\n",
    "#ax.set_title('The Beautiful People')    # https://matplotlib.org/stable/api/axes_api.html\n",
    "#ax.xaxis.set_tick_params(rotation=45)   # https://matplotlib.org/stable/api/axis_api.html\n",
    "plt.show();"
   ]
  },
  {
   "cell_type": "markdown",
   "id": "76d26d93",
   "metadata": {},
   "source": [
    "---"
   ]
  },
  {
   "cell_type": "code",
   "execution_count": null,
   "id": "3f3dfb3f",
   "metadata": {},
   "outputs": [],
   "source": [
    "# subplots method (n plots)\n",
    "fig, axs = plt.subplots(ncols=1, nrows=2, figsize=(13,13))\n",
    "axs[0].plot(x_time, y_time)                    \n",
    "axs[0].set(ylim=[0, 150], xlabel='Month', ylabel='Feeling', title='The Bootcamp Feeling')\n",
    "axs[1].scatter(x, y)                    \n",
    "axs[1].set(xlabel='Random X', ylabel='Random Y', title='Pseudo Random')\n",
    "plt.show();"
   ]
  },
  {
   "cell_type": "markdown",
   "id": "1c02e168",
   "metadata": {},
   "source": [
    "---"
   ]
  },
  {
   "cell_type": "code",
   "execution_count": null,
   "id": "57212502",
   "metadata": {},
   "outputs": [],
   "source": [
    "# more configuration examples\n",
    "fig, ax = plt.subplots(figsize=(13, 8))\n",
    "ax.barh(x_cat, y_cat)\n",
    "labels = ax.get_xticklabels()\n",
    "plt.setp(labels, rotation=45, horizontalalignment='right')\n",
    "ax.set(xlabel='\"People\"', ylabel='Amount of \"People\"', title='Homo \"Sapiens\"')\n",
    "ax.axvline(y_cat_mean, ls=':', color='#a2402b')\n",
    "ax.text(y_cat_mean + 1000, 4, 'Neanderthals')\n",
    "ax.title.set(y=1.05)\n",
    "plt.show();"
   ]
  },
  {
   "cell_type": "code",
   "execution_count": null,
   "id": "d9ec7130",
   "metadata": {},
   "outputs": [],
   "source": [
    "# set style\n",
    "print(plt.style.available)\n",
    "#plt.style.use('default')"
   ]
  },
  {
   "cell_type": "code",
   "execution_count": null,
   "id": "b672573c",
   "metadata": {},
   "outputs": [],
   "source": [
    "# save plot\n",
    "fig.canvas.get_supported_filetypes()\n",
    "#fig.savefig('./img/homo_sapiens.pdf', transparent=False, dpi=80, bbox_inches=\"tight\")"
   ]
  },
  {
   "cell_type": "markdown",
   "id": "1cbf2356",
   "metadata": {},
   "source": [
    "---"
   ]
  },
  {
   "cell_type": "markdown",
   "id": "2d885293",
   "metadata": {},
   "source": [
    "### seaborn\n",
    "\n",
    "It provides a high-level interface for drawing attractive and informative statistical graphics.\n",
    "\n",
    "https://seaborn.pydata.org/api.html"
   ]
  },
  {
   "cell_type": "code",
   "execution_count": null,
   "id": "dbdafdd8",
   "metadata": {},
   "outputs": [],
   "source": [
    "# library example\n",
    "sns.set_theme(style=\"whitegrid\")\n",
    "tips = sns.load_dataset(\"tips\")\n",
    "tips"
   ]
  },
  {
   "cell_type": "code",
   "execution_count": null,
   "id": "1dbd3140",
   "metadata": {},
   "outputs": [],
   "source": [
    "ax = sns.barplot(x=\"day\", y=\"total_bill\", data=tips)"
   ]
  },
  {
   "cell_type": "code",
   "execution_count": null,
   "id": "5e834189",
   "metadata": {},
   "outputs": [],
   "source": [
    "ax = sns.barplot(x=\"day\", y=\"total_bill\", hue=\"sex\", data=tips)"
   ]
  },
  {
   "cell_type": "code",
   "execution_count": null,
   "id": "2854023c",
   "metadata": {},
   "outputs": [],
   "source": [
    "tips[\"weekend\"] = tips[\"day\"].isin([\"Sat\", \"Sun\"])\n",
    "ax = sns.barplot(x=\"day\", y=\"total_bill\", hue=\"weekend\", data=tips, dodge=False)"
   ]
  },
  {
   "cell_type": "code",
   "execution_count": null,
   "id": "e0b48165",
   "metadata": {
    "scrolled": true
   },
   "outputs": [],
   "source": [
    "ax = sns.barplot(x=\"size\", y=\"total_bill\", data=tips, color=\"salmon\", saturation=.5)"
   ]
  },
  {
   "cell_type": "markdown",
   "id": "958954ca",
   "metadata": {},
   "source": [
    "---"
   ]
  },
  {
   "cell_type": "code",
   "execution_count": null,
   "id": "84d44ae2",
   "metadata": {},
   "outputs": [],
   "source": [
    "# our data\n",
    "homo_sapiens = pd.DataFrame({'x_cat': x_cat, 'y_cat': y_cat})\n",
    "homo_sapiens"
   ]
  },
  {
   "cell_type": "code",
   "execution_count": null,
   "id": "6559e22e",
   "metadata": {},
   "outputs": [],
   "source": [
    "fig, ax = plt.subplots(ncols=1, nrows=1, figsize=(13,8))\n",
    "ax = sns.barplot(data=homo_sapiens, x='x_cat', y='y_cat')"
   ]
  }
 ],
 "metadata": {
  "kernelspec": {
   "display_name": "Python [conda env:.conda-ironhack]",
   "language": "python",
   "name": "conda-env-.conda-ironhack-py"
  },
  "language_info": {
   "codemirror_mode": {
    "name": "ipython",
    "version": 3
   },
   "file_extension": ".py",
   "mimetype": "text/x-python",
   "name": "python",
   "nbconvert_exporter": "python",
   "pygments_lexer": "ipython3",
   "version": "3.7.11"
  }
 },
 "nbformat": 4,
 "nbformat_minor": 5
}
